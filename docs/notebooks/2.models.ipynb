{
 "cells": [
  {
   "cell_type": "markdown",
   "metadata": {},
   "source": [
    "# Models\n",
    "\n",
    "- Models should specify their sample format. E.g., a 2-element tuple of `(input, target)`\n",
    "- Data Modules should return a sample in the format specified by the model\n",
    "- Top-level modules must by Lightning Modules\n",
    "- Consider inheriting from `minerva.models.nets.base.SimpleSupervisedModel` for simple supervised models"
   ]
  },
  {
   "cell_type": "markdown",
   "metadata": {},
   "source": [
    "## The `SimpleSupervisedModel` class\n",
    "\n",
    "This class implements a very common deep learning pipeline, which is composed by the following steps:\n",
    "\n",
    "1. Make a forward pass with the input data on the backbone model;\n",
    "2. Make a forward pass with the input data on the fc model;\n",
    "3. Compute the loss between the output and the label data;\n",
    "4. Optimize the model (backbone and FC) parameters with respect to the loss.\n",
    "\n",
    "This reduces the code duplication for autoencoder models, and makes it easier to implement new models by only changing the backbone model. More complex models, that does not follow this pipeline, should not inherit from this class.\n",
    "Note that, for this class the input data is a tuple of tensors, where the first tensor is the input data and the second tensor is the mask or label."
   ]
  }
 ],
 "metadata": {
  "language_info": {
   "name": "python"
  }
 },
 "nbformat": 4,
 "nbformat_minor": 2
}
