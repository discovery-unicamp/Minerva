{
 "cells": [
  {
   "cell_type": "markdown",
   "metadata": {},
   "source": [
    "# Fine-tunning SETR PUP on Parihaka Dataset"
   ]
  },
  {
   "cell_type": "markdown",
   "metadata": {},
   "source": [
    "## Imports"
   ]
  },
  {
   "cell_type": "code",
   "execution_count": 1,
   "metadata": {},
   "outputs": [
    {
     "name": "stderr",
     "output_type": "stream",
     "text": [
      "/usr/local/lib/python3.10/dist-packages/_distutils_hack/__init__.py:53: UserWarning: Reliance on distutils from stdlib is deprecated. Users must rely on setuptools to provide the distutils module. Avoid importing distutils or import setuptools first, and avoid setting SETUPTOOLS_USE_DISTUTILS=stdlib. Register concerns at https://github.com/pypa/setuptools/issues/new?template=distutils-deprecation.yml\n",
      "  warnings.warn(\n",
      "/usr/local/lib/python3.10/dist-packages/tqdm/auto.py:21: TqdmWarning: IProgress not found. Please update jupyter and ipywidgets. See https://ipywidgets.readthedocs.io/en/stable/user_install.html\n",
      "  from .autonotebook import tqdm as notebook_tqdm\n"
     ]
    }
   ],
   "source": [
    "from common import get_data_module, get_trainer_pipeline\n",
    "from minerva.models.nets.image.setr import SETR_PUP\n",
    "from torchmetrics import JaccardIndex"
   ]
  },
  {
   "cell_type": "markdown",
   "metadata": {},
   "source": [
    "## Variaveis"
   ]
  },
  {
   "cell_type": "code",
   "execution_count": 2,
   "metadata": {},
   "outputs": [],
   "source": [
    "root_data_dir = \"/workspaces/HIAAC-KR-Dev-Container/shared_data/seam_ai_datasets/seam_ai/images\"\n",
    "root_annotation_dir = \"/workspaces/HIAAC-KR-Dev-Container/shared_data/seam_ai_datasets/seam_ai/annotations\"\n",
    "ckpt_file = \"/workspaces/HIAAC-KR-Dev-Container/shared_data/notebooks_e_pesos/SETR_pesos/vit_large_p16_new.pth\"\n",
    "\n",
    "\n",
    "img_size = (1008, 784)          # Change this to the size of the images in the dataset\n",
    "model_name = \"setr_pup\"       # Model name (just identifier)\n",
    "dataset_name = \"seam_ai\"        # Dataset name (just identifier)\n",
    "single_channel = False          # If True, the model will be trained with single channel images (instead of 3 channels)\n",
    "\n",
    "log_dir = \"/workspaces/HIAAC-KR-Dev-Container/Minerva-Dev/docs/notebooks/examples/seismic/facies_classification/parihaka/logs\"              # Directory to save logs\n",
    "batch_size = 1                  # Batch size    \n",
    "seed = 42                       # Seed for reproducibility\n",
    "num_epochs = 100                # Number of epochs to train\n",
    "is_debug = True                 # If True, only 3 batch will be processed for 3 epochs\n",
    "accelerator = \"gpu\"             # CPU or GPU\n",
    "devices = 1                     # Num GPUs"
   ]
  },
  {
   "cell_type": "markdown",
   "metadata": {},
   "source": [
    "## Data Module"
   ]
  },
  {
   "cell_type": "code",
   "execution_count": 3,
   "metadata": {},
   "outputs": [
    {
     "data": {
      "text/plain": [
       "DataModule\n",
       "    Data: /workspaces/HIAAC-KR-Dev-Container/shared_data/seam_ai_datasets/seam_ai/images\n",
       "    Annotations: /workspaces/HIAAC-KR-Dev-Container/shared_data/seam_ai_datasets/seam_ai/annotations\n",
       "    Batch size: 1"
      ]
     },
     "execution_count": 3,
     "metadata": {},
     "output_type": "execute_result"
    }
   ],
   "source": [
    "data_module = get_data_module(\n",
    "    root_data_dir=root_data_dir,\n",
    "    root_annotation_dir=root_annotation_dir,\n",
    "    img_size=img_size,\n",
    "    batch_size=batch_size,\n",
    "    seed=seed,\n",
    "    single_channel=single_channel\n",
    ")\n",
    "\n",
    "data_module"
   ]
  },
  {
   "cell_type": "code",
   "execution_count": 4,
   "metadata": {},
   "outputs": [
    {
     "data": {
      "text/plain": [
       "(torch.Size([1, 3, 1008, 784]), torch.Size([1, 1, 1008, 784]))"
      ]
     },
     "execution_count": 4,
     "metadata": {},
     "output_type": "execute_result"
    }
   ],
   "source": [
    "# Just to check if the data module is working\n",
    "data_module.setup(\"fit\")\n",
    "train_batch_x, train_batch_y = next(iter(data_module.train_dataloader()))\n",
    "train_batch_x.shape, train_batch_y.shape"
   ]
  },
  {
   "cell_type": "markdown",
   "metadata": {},
   "source": [
    "## **** Create and Load model HERE ****"
   ]
  },
  {
   "cell_type": "code",
   "execution_count": 5,
   "metadata": {},
   "outputs": [
    {
     "name": "stderr",
     "output_type": "stream",
     "text": [
      "/workspaces/HIAAC-KR-Dev-Container/Minerva-Dev/minerva/models/nets/image/setr.py:584: UserWarning: aux_output_layers not provided. Using default values [9, 14, 19].\n",
      "  warnings.warn(\n",
      "/workspaces/HIAAC-KR-Dev-Container/Minerva-Dev/minerva/models/nets/image/setr.py:589: UserWarning: aux_weights not provided. Using default values [0.3, 0.3, 0.3].\n",
      "  warnings.warn(\n"
     ]
    },
    {
     "name": "stdout",
     "output_type": "stream",
     "text": [
      "Interpolating positional embeddings to match the new image size.\n"
     ]
    },
    {
     "data": {
      "text/plain": [
       "SETR_PUP(\n",
       "  (loss_fn): CrossEntropyLoss()\n",
       "  (model): _SetR_PUP(\n",
       "    (encoder): _VisionTransformerBackbone(\n",
       "      (conv_proj): Conv2d(3, 1024, kernel_size=(16, 16), stride=(16, 16))\n",
       "      (encoder): _Encoder(\n",
       "        (dropout): Dropout(p=0.1, inplace=False)\n",
       "        (layers): Sequential(\n",
       "          (encoder_layer_0): EncoderBlock(\n",
       "            (ln_1): LayerNorm((1024,), eps=1e-06, elementwise_affine=True)\n",
       "            (self_attention): MultiheadAttention(\n",
       "              (out_proj): NonDynamicallyQuantizableLinear(in_features=1024, out_features=1024, bias=True)\n",
       "            )\n",
       "            (dropout): Dropout(p=0.1, inplace=False)\n",
       "            (ln_2): LayerNorm((1024,), eps=1e-06, elementwise_affine=True)\n",
       "            (mlp): MLPBlock(\n",
       "              (0): Linear(in_features=1024, out_features=4096, bias=True)\n",
       "              (1): GELU(approximate='none')\n",
       "              (2): Dropout(p=0.1, inplace=False)\n",
       "              (3): Linear(in_features=4096, out_features=1024, bias=True)\n",
       "              (4): Dropout(p=0.1, inplace=False)\n",
       "            )\n",
       "          )\n",
       "          (encoder_layer_1): EncoderBlock(\n",
       "            (ln_1): LayerNorm((1024,), eps=1e-06, elementwise_affine=True)\n",
       "            (self_attention): MultiheadAttention(\n",
       "              (out_proj): NonDynamicallyQuantizableLinear(in_features=1024, out_features=1024, bias=True)\n",
       "            )\n",
       "            (dropout): Dropout(p=0.1, inplace=False)\n",
       "            (ln_2): LayerNorm((1024,), eps=1e-06, elementwise_affine=True)\n",
       "            (mlp): MLPBlock(\n",
       "              (0): Linear(in_features=1024, out_features=4096, bias=True)\n",
       "              (1): GELU(approximate='none')\n",
       "              (2): Dropout(p=0.1, inplace=False)\n",
       "              (3): Linear(in_features=4096, out_features=1024, bias=True)\n",
       "              (4): Dropout(p=0.1, inplace=False)\n",
       "            )\n",
       "          )\n",
       "          (encoder_layer_2): EncoderBlock(\n",
       "            (ln_1): LayerNorm((1024,), eps=1e-06, elementwise_affine=True)\n",
       "            (self_attention): MultiheadAttention(\n",
       "              (out_proj): NonDynamicallyQuantizableLinear(in_features=1024, out_features=1024, bias=True)\n",
       "            )\n",
       "            (dropout): Dropout(p=0.1, inplace=False)\n",
       "            (ln_2): LayerNorm((1024,), eps=1e-06, elementwise_affine=True)\n",
       "            (mlp): MLPBlock(\n",
       "              (0): Linear(in_features=1024, out_features=4096, bias=True)\n",
       "              (1): GELU(approximate='none')\n",
       "              (2): Dropout(p=0.1, inplace=False)\n",
       "              (3): Linear(in_features=4096, out_features=1024, bias=True)\n",
       "              (4): Dropout(p=0.1, inplace=False)\n",
       "            )\n",
       "          )\n",
       "          (encoder_layer_3): EncoderBlock(\n",
       "            (ln_1): LayerNorm((1024,), eps=1e-06, elementwise_affine=True)\n",
       "            (self_attention): MultiheadAttention(\n",
       "              (out_proj): NonDynamicallyQuantizableLinear(in_features=1024, out_features=1024, bias=True)\n",
       "            )\n",
       "            (dropout): Dropout(p=0.1, inplace=False)\n",
       "            (ln_2): LayerNorm((1024,), eps=1e-06, elementwise_affine=True)\n",
       "            (mlp): MLPBlock(\n",
       "              (0): Linear(in_features=1024, out_features=4096, bias=True)\n",
       "              (1): GELU(approximate='none')\n",
       "              (2): Dropout(p=0.1, inplace=False)\n",
       "              (3): Linear(in_features=4096, out_features=1024, bias=True)\n",
       "              (4): Dropout(p=0.1, inplace=False)\n",
       "            )\n",
       "          )\n",
       "          (encoder_layer_4): EncoderBlock(\n",
       "            (ln_1): LayerNorm((1024,), eps=1e-06, elementwise_affine=True)\n",
       "            (self_attention): MultiheadAttention(\n",
       "              (out_proj): NonDynamicallyQuantizableLinear(in_features=1024, out_features=1024, bias=True)\n",
       "            )\n",
       "            (dropout): Dropout(p=0.1, inplace=False)\n",
       "            (ln_2): LayerNorm((1024,), eps=1e-06, elementwise_affine=True)\n",
       "            (mlp): MLPBlock(\n",
       "              (0): Linear(in_features=1024, out_features=4096, bias=True)\n",
       "              (1): GELU(approximate='none')\n",
       "              (2): Dropout(p=0.1, inplace=False)\n",
       "              (3): Linear(in_features=4096, out_features=1024, bias=True)\n",
       "              (4): Dropout(p=0.1, inplace=False)\n",
       "            )\n",
       "          )\n",
       "          (encoder_layer_5): EncoderBlock(\n",
       "            (ln_1): LayerNorm((1024,), eps=1e-06, elementwise_affine=True)\n",
       "            (self_attention): MultiheadAttention(\n",
       "              (out_proj): NonDynamicallyQuantizableLinear(in_features=1024, out_features=1024, bias=True)\n",
       "            )\n",
       "            (dropout): Dropout(p=0.1, inplace=False)\n",
       "            (ln_2): LayerNorm((1024,), eps=1e-06, elementwise_affine=True)\n",
       "            (mlp): MLPBlock(\n",
       "              (0): Linear(in_features=1024, out_features=4096, bias=True)\n",
       "              (1): GELU(approximate='none')\n",
       "              (2): Dropout(p=0.1, inplace=False)\n",
       "              (3): Linear(in_features=4096, out_features=1024, bias=True)\n",
       "              (4): Dropout(p=0.1, inplace=False)\n",
       "            )\n",
       "          )\n",
       "          (encoder_layer_6): EncoderBlock(\n",
       "            (ln_1): LayerNorm((1024,), eps=1e-06, elementwise_affine=True)\n",
       "            (self_attention): MultiheadAttention(\n",
       "              (out_proj): NonDynamicallyQuantizableLinear(in_features=1024, out_features=1024, bias=True)\n",
       "            )\n",
       "            (dropout): Dropout(p=0.1, inplace=False)\n",
       "            (ln_2): LayerNorm((1024,), eps=1e-06, elementwise_affine=True)\n",
       "            (mlp): MLPBlock(\n",
       "              (0): Linear(in_features=1024, out_features=4096, bias=True)\n",
       "              (1): GELU(approximate='none')\n",
       "              (2): Dropout(p=0.1, inplace=False)\n",
       "              (3): Linear(in_features=4096, out_features=1024, bias=True)\n",
       "              (4): Dropout(p=0.1, inplace=False)\n",
       "            )\n",
       "          )\n",
       "          (encoder_layer_7): EncoderBlock(\n",
       "            (ln_1): LayerNorm((1024,), eps=1e-06, elementwise_affine=True)\n",
       "            (self_attention): MultiheadAttention(\n",
       "              (out_proj): NonDynamicallyQuantizableLinear(in_features=1024, out_features=1024, bias=True)\n",
       "            )\n",
       "            (dropout): Dropout(p=0.1, inplace=False)\n",
       "            (ln_2): LayerNorm((1024,), eps=1e-06, elementwise_affine=True)\n",
       "            (mlp): MLPBlock(\n",
       "              (0): Linear(in_features=1024, out_features=4096, bias=True)\n",
       "              (1): GELU(approximate='none')\n",
       "              (2): Dropout(p=0.1, inplace=False)\n",
       "              (3): Linear(in_features=4096, out_features=1024, bias=True)\n",
       "              (4): Dropout(p=0.1, inplace=False)\n",
       "            )\n",
       "          )\n",
       "          (encoder_layer_8): EncoderBlock(\n",
       "            (ln_1): LayerNorm((1024,), eps=1e-06, elementwise_affine=True)\n",
       "            (self_attention): MultiheadAttention(\n",
       "              (out_proj): NonDynamicallyQuantizableLinear(in_features=1024, out_features=1024, bias=True)\n",
       "            )\n",
       "            (dropout): Dropout(p=0.1, inplace=False)\n",
       "            (ln_2): LayerNorm((1024,), eps=1e-06, elementwise_affine=True)\n",
       "            (mlp): MLPBlock(\n",
       "              (0): Linear(in_features=1024, out_features=4096, bias=True)\n",
       "              (1): GELU(approximate='none')\n",
       "              (2): Dropout(p=0.1, inplace=False)\n",
       "              (3): Linear(in_features=4096, out_features=1024, bias=True)\n",
       "              (4): Dropout(p=0.1, inplace=False)\n",
       "            )\n",
       "          )\n",
       "          (encoder_layer_9): EncoderBlock(\n",
       "            (ln_1): LayerNorm((1024,), eps=1e-06, elementwise_affine=True)\n",
       "            (self_attention): MultiheadAttention(\n",
       "              (out_proj): NonDynamicallyQuantizableLinear(in_features=1024, out_features=1024, bias=True)\n",
       "            )\n",
       "            (dropout): Dropout(p=0.1, inplace=False)\n",
       "            (ln_2): LayerNorm((1024,), eps=1e-06, elementwise_affine=True)\n",
       "            (mlp): MLPBlock(\n",
       "              (0): Linear(in_features=1024, out_features=4096, bias=True)\n",
       "              (1): GELU(approximate='none')\n",
       "              (2): Dropout(p=0.1, inplace=False)\n",
       "              (3): Linear(in_features=4096, out_features=1024, bias=True)\n",
       "              (4): Dropout(p=0.1, inplace=False)\n",
       "            )\n",
       "          )\n",
       "          (encoder_layer_10): EncoderBlock(\n",
       "            (ln_1): LayerNorm((1024,), eps=1e-06, elementwise_affine=True)\n",
       "            (self_attention): MultiheadAttention(\n",
       "              (out_proj): NonDynamicallyQuantizableLinear(in_features=1024, out_features=1024, bias=True)\n",
       "            )\n",
       "            (dropout): Dropout(p=0.1, inplace=False)\n",
       "            (ln_2): LayerNorm((1024,), eps=1e-06, elementwise_affine=True)\n",
       "            (mlp): MLPBlock(\n",
       "              (0): Linear(in_features=1024, out_features=4096, bias=True)\n",
       "              (1): GELU(approximate='none')\n",
       "              (2): Dropout(p=0.1, inplace=False)\n",
       "              (3): Linear(in_features=4096, out_features=1024, bias=True)\n",
       "              (4): Dropout(p=0.1, inplace=False)\n",
       "            )\n",
       "          )\n",
       "          (encoder_layer_11): EncoderBlock(\n",
       "            (ln_1): LayerNorm((1024,), eps=1e-06, elementwise_affine=True)\n",
       "            (self_attention): MultiheadAttention(\n",
       "              (out_proj): NonDynamicallyQuantizableLinear(in_features=1024, out_features=1024, bias=True)\n",
       "            )\n",
       "            (dropout): Dropout(p=0.1, inplace=False)\n",
       "            (ln_2): LayerNorm((1024,), eps=1e-06, elementwise_affine=True)\n",
       "            (mlp): MLPBlock(\n",
       "              (0): Linear(in_features=1024, out_features=4096, bias=True)\n",
       "              (1): GELU(approximate='none')\n",
       "              (2): Dropout(p=0.1, inplace=False)\n",
       "              (3): Linear(in_features=4096, out_features=1024, bias=True)\n",
       "              (4): Dropout(p=0.1, inplace=False)\n",
       "            )\n",
       "          )\n",
       "          (encoder_layer_12): EncoderBlock(\n",
       "            (ln_1): LayerNorm((1024,), eps=1e-06, elementwise_affine=True)\n",
       "            (self_attention): MultiheadAttention(\n",
       "              (out_proj): NonDynamicallyQuantizableLinear(in_features=1024, out_features=1024, bias=True)\n",
       "            )\n",
       "            (dropout): Dropout(p=0.1, inplace=False)\n",
       "            (ln_2): LayerNorm((1024,), eps=1e-06, elementwise_affine=True)\n",
       "            (mlp): MLPBlock(\n",
       "              (0): Linear(in_features=1024, out_features=4096, bias=True)\n",
       "              (1): GELU(approximate='none')\n",
       "              (2): Dropout(p=0.1, inplace=False)\n",
       "              (3): Linear(in_features=4096, out_features=1024, bias=True)\n",
       "              (4): Dropout(p=0.1, inplace=False)\n",
       "            )\n",
       "          )\n",
       "          (encoder_layer_13): EncoderBlock(\n",
       "            (ln_1): LayerNorm((1024,), eps=1e-06, elementwise_affine=True)\n",
       "            (self_attention): MultiheadAttention(\n",
       "              (out_proj): NonDynamicallyQuantizableLinear(in_features=1024, out_features=1024, bias=True)\n",
       "            )\n",
       "            (dropout): Dropout(p=0.1, inplace=False)\n",
       "            (ln_2): LayerNorm((1024,), eps=1e-06, elementwise_affine=True)\n",
       "            (mlp): MLPBlock(\n",
       "              (0): Linear(in_features=1024, out_features=4096, bias=True)\n",
       "              (1): GELU(approximate='none')\n",
       "              (2): Dropout(p=0.1, inplace=False)\n",
       "              (3): Linear(in_features=4096, out_features=1024, bias=True)\n",
       "              (4): Dropout(p=0.1, inplace=False)\n",
       "            )\n",
       "          )\n",
       "          (encoder_layer_14): EncoderBlock(\n",
       "            (ln_1): LayerNorm((1024,), eps=1e-06, elementwise_affine=True)\n",
       "            (self_attention): MultiheadAttention(\n",
       "              (out_proj): NonDynamicallyQuantizableLinear(in_features=1024, out_features=1024, bias=True)\n",
       "            )\n",
       "            (dropout): Dropout(p=0.1, inplace=False)\n",
       "            (ln_2): LayerNorm((1024,), eps=1e-06, elementwise_affine=True)\n",
       "            (mlp): MLPBlock(\n",
       "              (0): Linear(in_features=1024, out_features=4096, bias=True)\n",
       "              (1): GELU(approximate='none')\n",
       "              (2): Dropout(p=0.1, inplace=False)\n",
       "              (3): Linear(in_features=4096, out_features=1024, bias=True)\n",
       "              (4): Dropout(p=0.1, inplace=False)\n",
       "            )\n",
       "          )\n",
       "          (encoder_layer_15): EncoderBlock(\n",
       "            (ln_1): LayerNorm((1024,), eps=1e-06, elementwise_affine=True)\n",
       "            (self_attention): MultiheadAttention(\n",
       "              (out_proj): NonDynamicallyQuantizableLinear(in_features=1024, out_features=1024, bias=True)\n",
       "            )\n",
       "            (dropout): Dropout(p=0.1, inplace=False)\n",
       "            (ln_2): LayerNorm((1024,), eps=1e-06, elementwise_affine=True)\n",
       "            (mlp): MLPBlock(\n",
       "              (0): Linear(in_features=1024, out_features=4096, bias=True)\n",
       "              (1): GELU(approximate='none')\n",
       "              (2): Dropout(p=0.1, inplace=False)\n",
       "              (3): Linear(in_features=4096, out_features=1024, bias=True)\n",
       "              (4): Dropout(p=0.1, inplace=False)\n",
       "            )\n",
       "          )\n",
       "          (encoder_layer_16): EncoderBlock(\n",
       "            (ln_1): LayerNorm((1024,), eps=1e-06, elementwise_affine=True)\n",
       "            (self_attention): MultiheadAttention(\n",
       "              (out_proj): NonDynamicallyQuantizableLinear(in_features=1024, out_features=1024, bias=True)\n",
       "            )\n",
       "            (dropout): Dropout(p=0.1, inplace=False)\n",
       "            (ln_2): LayerNorm((1024,), eps=1e-06, elementwise_affine=True)\n",
       "            (mlp): MLPBlock(\n",
       "              (0): Linear(in_features=1024, out_features=4096, bias=True)\n",
       "              (1): GELU(approximate='none')\n",
       "              (2): Dropout(p=0.1, inplace=False)\n",
       "              (3): Linear(in_features=4096, out_features=1024, bias=True)\n",
       "              (4): Dropout(p=0.1, inplace=False)\n",
       "            )\n",
       "          )\n",
       "          (encoder_layer_17): EncoderBlock(\n",
       "            (ln_1): LayerNorm((1024,), eps=1e-06, elementwise_affine=True)\n",
       "            (self_attention): MultiheadAttention(\n",
       "              (out_proj): NonDynamicallyQuantizableLinear(in_features=1024, out_features=1024, bias=True)\n",
       "            )\n",
       "            (dropout): Dropout(p=0.1, inplace=False)\n",
       "            (ln_2): LayerNorm((1024,), eps=1e-06, elementwise_affine=True)\n",
       "            (mlp): MLPBlock(\n",
       "              (0): Linear(in_features=1024, out_features=4096, bias=True)\n",
       "              (1): GELU(approximate='none')\n",
       "              (2): Dropout(p=0.1, inplace=False)\n",
       "              (3): Linear(in_features=4096, out_features=1024, bias=True)\n",
       "              (4): Dropout(p=0.1, inplace=False)\n",
       "            )\n",
       "          )\n",
       "          (encoder_layer_18): EncoderBlock(\n",
       "            (ln_1): LayerNorm((1024,), eps=1e-06, elementwise_affine=True)\n",
       "            (self_attention): MultiheadAttention(\n",
       "              (out_proj): NonDynamicallyQuantizableLinear(in_features=1024, out_features=1024, bias=True)\n",
       "            )\n",
       "            (dropout): Dropout(p=0.1, inplace=False)\n",
       "            (ln_2): LayerNorm((1024,), eps=1e-06, elementwise_affine=True)\n",
       "            (mlp): MLPBlock(\n",
       "              (0): Linear(in_features=1024, out_features=4096, bias=True)\n",
       "              (1): GELU(approximate='none')\n",
       "              (2): Dropout(p=0.1, inplace=False)\n",
       "              (3): Linear(in_features=4096, out_features=1024, bias=True)\n",
       "              (4): Dropout(p=0.1, inplace=False)\n",
       "            )\n",
       "          )\n",
       "          (encoder_layer_19): EncoderBlock(\n",
       "            (ln_1): LayerNorm((1024,), eps=1e-06, elementwise_affine=True)\n",
       "            (self_attention): MultiheadAttention(\n",
       "              (out_proj): NonDynamicallyQuantizableLinear(in_features=1024, out_features=1024, bias=True)\n",
       "            )\n",
       "            (dropout): Dropout(p=0.1, inplace=False)\n",
       "            (ln_2): LayerNorm((1024,), eps=1e-06, elementwise_affine=True)\n",
       "            (mlp): MLPBlock(\n",
       "              (0): Linear(in_features=1024, out_features=4096, bias=True)\n",
       "              (1): GELU(approximate='none')\n",
       "              (2): Dropout(p=0.1, inplace=False)\n",
       "              (3): Linear(in_features=4096, out_features=1024, bias=True)\n",
       "              (4): Dropout(p=0.1, inplace=False)\n",
       "            )\n",
       "          )\n",
       "          (encoder_layer_20): EncoderBlock(\n",
       "            (ln_1): LayerNorm((1024,), eps=1e-06, elementwise_affine=True)\n",
       "            (self_attention): MultiheadAttention(\n",
       "              (out_proj): NonDynamicallyQuantizableLinear(in_features=1024, out_features=1024, bias=True)\n",
       "            )\n",
       "            (dropout): Dropout(p=0.1, inplace=False)\n",
       "            (ln_2): LayerNorm((1024,), eps=1e-06, elementwise_affine=True)\n",
       "            (mlp): MLPBlock(\n",
       "              (0): Linear(in_features=1024, out_features=4096, bias=True)\n",
       "              (1): GELU(approximate='none')\n",
       "              (2): Dropout(p=0.1, inplace=False)\n",
       "              (3): Linear(in_features=4096, out_features=1024, bias=True)\n",
       "              (4): Dropout(p=0.1, inplace=False)\n",
       "            )\n",
       "          )\n",
       "          (encoder_layer_21): EncoderBlock(\n",
       "            (ln_1): LayerNorm((1024,), eps=1e-06, elementwise_affine=True)\n",
       "            (self_attention): MultiheadAttention(\n",
       "              (out_proj): NonDynamicallyQuantizableLinear(in_features=1024, out_features=1024, bias=True)\n",
       "            )\n",
       "            (dropout): Dropout(p=0.1, inplace=False)\n",
       "            (ln_2): LayerNorm((1024,), eps=1e-06, elementwise_affine=True)\n",
       "            (mlp): MLPBlock(\n",
       "              (0): Linear(in_features=1024, out_features=4096, bias=True)\n",
       "              (1): GELU(approximate='none')\n",
       "              (2): Dropout(p=0.1, inplace=False)\n",
       "              (3): Linear(in_features=4096, out_features=1024, bias=True)\n",
       "              (4): Dropout(p=0.1, inplace=False)\n",
       "            )\n",
       "          )\n",
       "          (encoder_layer_22): EncoderBlock(\n",
       "            (ln_1): LayerNorm((1024,), eps=1e-06, elementwise_affine=True)\n",
       "            (self_attention): MultiheadAttention(\n",
       "              (out_proj): NonDynamicallyQuantizableLinear(in_features=1024, out_features=1024, bias=True)\n",
       "            )\n",
       "            (dropout): Dropout(p=0.1, inplace=False)\n",
       "            (ln_2): LayerNorm((1024,), eps=1e-06, elementwise_affine=True)\n",
       "            (mlp): MLPBlock(\n",
       "              (0): Linear(in_features=1024, out_features=4096, bias=True)\n",
       "              (1): GELU(approximate='none')\n",
       "              (2): Dropout(p=0.1, inplace=False)\n",
       "              (3): Linear(in_features=4096, out_features=1024, bias=True)\n",
       "              (4): Dropout(p=0.1, inplace=False)\n",
       "            )\n",
       "          )\n",
       "          (encoder_layer_23): EncoderBlock(\n",
       "            (ln_1): LayerNorm((1024,), eps=1e-06, elementwise_affine=True)\n",
       "            (self_attention): MultiheadAttention(\n",
       "              (out_proj): NonDynamicallyQuantizableLinear(in_features=1024, out_features=1024, bias=True)\n",
       "            )\n",
       "            (dropout): Dropout(p=0.1, inplace=False)\n",
       "            (ln_2): LayerNorm((1024,), eps=1e-06, elementwise_affine=True)\n",
       "            (mlp): MLPBlock(\n",
       "              (0): Linear(in_features=1024, out_features=4096, bias=True)\n",
       "              (1): GELU(approximate='none')\n",
       "              (2): Dropout(p=0.1, inplace=False)\n",
       "              (3): Linear(in_features=4096, out_features=1024, bias=True)\n",
       "              (4): Dropout(p=0.1, inplace=False)\n",
       "            )\n",
       "          )\n",
       "        )\n",
       "        (ln): LayerNorm((1024,), eps=1e-06, elementwise_affine=True)\n",
       "      )\n",
       "    )\n",
       "    (decoder): _SETRUPHead(\n",
       "      (cls_seg): Conv2d(256, 6, kernel_size=(1, 1), stride=(1, 1))\n",
       "      (norm): LayerNorm((1024,), eps=1e-05, elementwise_affine=True)\n",
       "      (dropout): Dropout2d(p=0.1, inplace=False)\n",
       "      (up_convs): ModuleList(\n",
       "        (0): Sequential(\n",
       "          (0): Conv2d(1024, 256, kernel_size=(3, 3), stride=(1, 1), padding=(1, 1), bias=False)\n",
       "          (1): SyncBatchNorm(256, eps=1e-05, momentum=0.1, affine=True, track_running_stats=True)\n",
       "          (2): ReLU()\n",
       "          (3): Upsample()\n",
       "        )\n",
       "        (1-3): 3 x Sequential(\n",
       "          (0): Conv2d(256, 256, kernel_size=(3, 3), stride=(1, 1), padding=(1, 1), bias=False)\n",
       "          (1): SyncBatchNorm(256, eps=1e-05, momentum=0.1, affine=True, track_running_stats=True)\n",
       "          (2): ReLU()\n",
       "          (3): Upsample()\n",
       "        )\n",
       "      )\n",
       "    )\n",
       "    (aux_head1): _SETRUPHead(\n",
       "      (cls_seg): Conv2d(256, 6, kernel_size=(1, 1), stride=(1, 1))\n",
       "      (norm): LayerNorm((1024,), eps=1e-05, elementwise_affine=True)\n",
       "      (dropout): Dropout2d(p=0.1, inplace=False)\n",
       "      (up_convs): ModuleList(\n",
       "        (0): Sequential(\n",
       "          (0): Conv2d(1024, 256, kernel_size=(3, 3), stride=(1, 1), padding=(1, 1), bias=False)\n",
       "          (1): SyncBatchNorm(256, eps=1e-05, momentum=0.1, affine=True, track_running_stats=True)\n",
       "          (2): ReLU()\n",
       "          (3): Upsample()\n",
       "        )\n",
       "        (1-3): 3 x Sequential(\n",
       "          (0): Conv2d(256, 256, kernel_size=(3, 3), stride=(1, 1), padding=(1, 1), bias=False)\n",
       "          (1): SyncBatchNorm(256, eps=1e-05, momentum=0.1, affine=True, track_running_stats=True)\n",
       "          (2): ReLU()\n",
       "          (3): Upsample()\n",
       "        )\n",
       "      )\n",
       "    )\n",
       "    (aux_head2): _SETRUPHead(\n",
       "      (cls_seg): Conv2d(256, 6, kernel_size=(1, 1), stride=(1, 1))\n",
       "      (norm): LayerNorm((1024,), eps=1e-05, elementwise_affine=True)\n",
       "      (dropout): Dropout2d(p=0.1, inplace=False)\n",
       "      (up_convs): ModuleList(\n",
       "        (0): Sequential(\n",
       "          (0): Conv2d(1024, 256, kernel_size=(3, 3), stride=(1, 1), padding=(1, 1), bias=False)\n",
       "          (1): SyncBatchNorm(256, eps=1e-05, momentum=0.1, affine=True, track_running_stats=True)\n",
       "          (2): ReLU()\n",
       "          (3): Upsample()\n",
       "        )\n",
       "        (1-3): 3 x Sequential(\n",
       "          (0): Conv2d(256, 256, kernel_size=(3, 3), stride=(1, 1), padding=(1, 1), bias=False)\n",
       "          (1): SyncBatchNorm(256, eps=1e-05, momentum=0.1, affine=True, track_running_stats=True)\n",
       "          (2): ReLU()\n",
       "          (3): Upsample()\n",
       "        )\n",
       "      )\n",
       "    )\n",
       "    (aux_head3): _SETRUPHead(\n",
       "      (cls_seg): Conv2d(256, 6, kernel_size=(1, 1), stride=(1, 1))\n",
       "      (norm): LayerNorm((1024,), eps=1e-05, elementwise_affine=True)\n",
       "      (dropout): Dropout2d(p=0.1, inplace=False)\n",
       "      (up_convs): ModuleList(\n",
       "        (0): Sequential(\n",
       "          (0): Conv2d(1024, 256, kernel_size=(3, 3), stride=(1, 1), padding=(1, 1), bias=False)\n",
       "          (1): SyncBatchNorm(256, eps=1e-05, momentum=0.1, affine=True, track_running_stats=True)\n",
       "          (2): ReLU()\n",
       "          (3): Upsample()\n",
       "        )\n",
       "        (1-3): 3 x Sequential(\n",
       "          (0): Conv2d(256, 256, kernel_size=(3, 3), stride=(1, 1), padding=(1, 1), bias=False)\n",
       "          (1): SyncBatchNorm(256, eps=1e-05, momentum=0.1, affine=True, track_running_stats=True)\n",
       "          (2): ReLU()\n",
       "          (3): Upsample()\n",
       "        )\n",
       "      )\n",
       "    )\n",
       "  )\n",
       ")"
      ]
     },
     "execution_count": 5,
     "metadata": {},
     "output_type": "execute_result"
    }
   ],
   "source": [
    "model = SETR_PUP(\n",
    "    image_size=img_size,\n",
    "    num_classes=6,\n",
    "    load_backbone_path=ckpt_file,\n",
    "    original_resolution=(256, 576),\n",
    "    train_metrics={\"IoU\": JaccardIndex(task=\"multiclass\", num_classes=6)},\n",
    "    val_metrics={\"IoU\": JaccardIndex(task=\"multiclass\", num_classes=6)},\n",
    "    test_metrics={\"IoU\": JaccardIndex(task=\"multiclass\", num_classes=6)},\n",
    ")\n",
    "\n",
    "\n",
    "model"
   ]
  },
  {
   "cell_type": "markdown",
   "metadata": {},
   "source": [
    "## Pipeline"
   ]
  },
  {
   "cell_type": "code",
   "execution_count": 6,
   "metadata": {},
   "outputs": [
    {
     "name": "stderr",
     "output_type": "stream",
     "text": [
      "GPU available: True (cuda), used: True\n",
      "TPU available: False, using: 0 TPU cores\n",
      "HPU available: False, using: 0 HPUs\n",
      "Seed set to 42\n"
     ]
    },
    {
     "name": "stdout",
     "output_type": "stream",
     "text": [
      "Log directory set to: /workspaces/HIAAC-KR-Dev-Container/Minerva-Dev/docs/notebooks/examples/seismic/facies_classification/parihaka/logs/setr_pup/seam_ai\n"
     ]
    }
   ],
   "source": [
    "pipeline = get_trainer_pipeline(\n",
    "    model=model,\n",
    "    model_name=model_name,\n",
    "    dataset_name=dataset_name,\n",
    "    log_dir=log_dir,\n",
    "    num_epochs=num_epochs,\n",
    "    accelerator=accelerator,\n",
    "    devices=devices,\n",
    "    is_debug=is_debug,\n",
    "    seed=seed,\n",
    ")"
   ]
  },
  {
   "cell_type": "code",
   "execution_count": 7,
   "metadata": {},
   "outputs": [
    {
     "name": "stderr",
     "output_type": "stream",
     "text": [
      "/usr/local/lib/python3.10/dist-packages/lightning/fabric/loggers/csv_logs.py:268: Experiment logs directory /workspaces/HIAAC-KR-Dev-Container/Minerva-Dev/docs/notebooks/examples/seismic/facies_classification/parihaka/logs/setr_pup/seam_ai exists and is not empty. Previous log files in this directory will be deleted when the new ones are saved!\n"
     ]
    },
    {
     "name": "stdout",
     "output_type": "stream",
     "text": [
      "Pipeline info saved at: /workspaces/HIAAC-KR-Dev-Container/Minerva-Dev/docs/notebooks/examples/seismic/facies_classification/parihaka/logs/setr_pup/seam_ai/run_2025-02-05-13-23-166cc155570ceb43dbb3c840a389c30f2c.yaml\n"
     ]
    },
    {
     "name": "stderr",
     "output_type": "stream",
     "text": [
      "LOCAL_RANK: 0 - CUDA_VISIBLE_DEVICES: [0]\n",
      "\n",
      "  | Name    | Type             | Params | Mode \n",
      "-----------------------------------------------------\n",
      "0 | loss_fn | CrossEntropyLoss | 0      | train\n",
      "1 | model   | _SetR_PUP        | 322 M  | train\n",
      "-----------------------------------------------------\n",
      "16.5 M    Trainable params\n",
      "306 M     Non-trainable params\n",
      "322 M     Total params\n",
      "1,291.143 Total estimated model params size (MB)\n",
      "363       Modules in train mode\n",
      "0         Modules in eval mode\n"
     ]
    },
    {
     "name": "stdout",
     "output_type": "stream",
     "text": [
      "Sanity Checking: |          | 0/? [00:00<?, ?it/s]"
     ]
    },
    {
     "name": "stderr",
     "output_type": "stream",
     "text": [
      "/usr/local/lib/python3.10/dist-packages/lightning/pytorch/trainer/connectors/data_connector.py:425: The 'val_dataloader' does not have many workers which may be a bottleneck. Consider increasing the value of the `num_workers` argument` to `num_workers=15` in the `DataLoader` to improve performance.\n"
     ]
    },
    {
     "name": "stdout",
     "output_type": "stream",
     "text": [
      "                                                                           \r"
     ]
    },
    {
     "name": "stderr",
     "output_type": "stream",
     "text": [
      "/usr/local/lib/python3.10/dist-packages/lightning/pytorch/trainer/connectors/data_connector.py:425: The 'train_dataloader' does not have many workers which may be a bottleneck. Consider increasing the value of the `num_workers` argument` to `num_workers=15` in the `DataLoader` to improve performance.\n",
      "/usr/local/lib/python3.10/dist-packages/lightning/pytorch/loops/fit_loop.py:310: The number of training batches (3) is smaller than the logging interval Trainer(log_every_n_steps=50). Set a lower value for log_every_n_steps if you want to see logs for the training epoch.\n"
     ]
    },
    {
     "name": "stdout",
     "output_type": "stream",
     "text": [
      "Epoch 2: 100%|██████████| 3/3 [00:01<00:00,  1.95it/s, v_num=m_ai, train_loss_step=2.130, val_loss_step=3.720, val_IoU=0.142, val_loss_epoch=3.720, train_IoU=0.246, train_loss_epoch=2.270] "
     ]
    },
    {
     "name": "stderr",
     "output_type": "stream",
     "text": [
      "`Trainer.fit` stopped: `max_epochs=3` reached.\n"
     ]
    },
    {
     "name": "stdout",
     "output_type": "stream",
     "text": [
      "Epoch 2: 100%|██████████| 3/3 [00:57<00:00,  0.05it/s, v_num=m_ai, train_loss_step=2.130, val_loss_step=3.720, val_IoU=0.142, val_loss_epoch=3.720, train_IoU=0.246, train_loss_epoch=2.270]\n",
      "Pipeline info saved at: /workspaces/HIAAC-KR-Dev-Container/Minerva-Dev/docs/notebooks/examples/seismic/facies_classification/parihaka/logs/setr_pup/seam_ai/run_2025-02-05-13-23-166cc155570ceb43dbb3c840a389c30f2c.yaml\n"
     ]
    }
   ],
   "source": [
    "pipeline.run(data_module, task=\"fit\")"
   ]
  },
  {
   "cell_type": "code",
   "execution_count": 8,
   "metadata": {},
   "outputs": [
    {
     "name": "stdout",
     "output_type": "stream",
     "text": [
      "Checkpoint saved at /workspaces/HIAAC-KR-Dev-Container/Minerva-Dev/docs/notebooks/examples/seismic/facies_classification/parihaka/logs/setr_pup/seam_ai/checkpoints/last.ckpt\n"
     ]
    }
   ],
   "source": [
    "print(f\"Checkpoint saved at {pipeline.trainer.checkpoint_callback.last_model_path}\")"
   ]
  }
 ],
 "metadata": {
  "kernelspec": {
   "display_name": "Python 3",
   "language": "python",
   "name": "python3"
  },
  "language_info": {
   "codemirror_mode": {
    "name": "ipython",
    "version": 3
   },
   "file_extension": ".py",
   "mimetype": "text/x-python",
   "name": "python",
   "nbconvert_exporter": "python",
   "pygments_lexer": "ipython3",
   "version": "3.10.12"
  }
 },
 "nbformat": 4,
 "nbformat_minor": 2
}
