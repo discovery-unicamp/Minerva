{
 "cells": [
  {
   "cell_type": "markdown",
   "metadata": {},
   "source": [
    "# Fine-tunning BYOL on Parihaka Dataset"
   ]
  },
  {
   "cell_type": "markdown",
   "metadata": {},
   "source": [
    "## Imports"
   ]
  },
  {
   "cell_type": "code",
   "execution_count": 1,
   "metadata": {},
   "outputs": [],
   "source": [
    "from common import get_data_module, get_trainer_pipeline\n",
    "import torch\n",
    "from minerva.models.ssl.byol import (\n",
    "    BYOL\n",
    ")\n",
    "from functools import partial\n",
    "import os"
   ]
  },
  {
   "cell_type": "markdown",
   "metadata": {},
   "source": [
    "## Variaveis"
   ]
  },
  {
   "cell_type": "code",
   "execution_count": 2,
   "metadata": {},
   "outputs": [
    {
     "name": "stdout",
     "output_type": "stream",
     "text": [
      "True\n",
      "True\n"
     ]
    }
   ],
   "source": [
    "# root_data_dir = \"/workspaces/HIAAC-KR-Dev-Container/shared_data/seam_ai_datasets/seam_ai/images\"\n",
    "# root_annotation_dir = \"/workspaces/HIAAC-KR-Dev-Container/shared_data/seam_ai_datasets/seam_ai/annotations\"\n",
    "\n",
    "root_data_dir = \"../../../../../../../shared_data/seam_ai_datasets/seam_ai/images\"\n",
    "root_annotation_dir = \"../../../../../../../shared_data/seam_ai_datasets/seam_ai/annotations\"\n",
    "\n",
    "print(os.path.exists(root_data_dir))\n",
    "print(os.path.exists(root_annotation_dir))\n",
    "\n",
    "\n",
    "\n",
    "img_size = (1008, 784)          # Change this to the size of the images in the dataset\n",
    "model_name = \"byol\"             # Model name (just identifier)\n",
    "dataset_name = \"seam_ai\"        # Dataset name (just identifier)\n",
    "single_channel = False          # If True, the model will be trained with single channel images (instead of 3 channels)\n",
    "\n",
    "log_dir = \"./logs\"              # Directory to save logs\n",
    "batch_size = 8                  # Batch size    \n",
    "seed = 42                       # Seed for reproducibility\n",
    "num_epochs = 75                 # Number of epochs to train\n",
    "is_debug = True                 # If True, only 3 batch will be processed for 3 epochs\n",
    "accelerator = \"gpu\"             # CPU or GPU\n",
    "devices = 1                     # Num GPUs"
   ]
  },
  {
   "cell_type": "markdown",
   "metadata": {},
   "source": [
    "## Data Module"
   ]
  },
  {
   "cell_type": "code",
   "execution_count": 3,
   "metadata": {},
   "outputs": [
    {
     "data": {
      "text/plain": [
       "DataModule\n",
       "    Data: ../../../../../../../shared_data/seam_ai_datasets/seam_ai/images\n",
       "    Annotations: ../../../../../../../shared_data/seam_ai_datasets/seam_ai/annotations\n",
       "    Batch size: 8"
      ]
     },
     "execution_count": 3,
     "metadata": {},
     "output_type": "execute_result"
    }
   ],
   "source": [
    "data_module = get_data_module(\n",
    "    root_data_dir=root_data_dir,\n",
    "    root_annotation_dir=root_annotation_dir,\n",
    "    img_size=img_size,\n",
    "    batch_size=batch_size,\n",
    "    seed=seed,\n",
    "    single_channel=single_channel\n",
    ")\n",
    "\n",
    "data_module"
   ]
  },
  {
   "cell_type": "code",
   "execution_count": 4,
   "metadata": {},
   "outputs": [
    {
     "data": {
      "text/plain": [
       "(torch.Size([8, 3, 1008, 784]), torch.Size([8, 1, 1008, 784]))"
      ]
     },
     "execution_count": 4,
     "metadata": {},
     "output_type": "execute_result"
    }
   ],
   "source": [
    "# Just to check if the data module is working\n",
    "data_module.setup(\"fit\")\n",
    "train_batch_x, train_batch_y = next(iter(data_module.train_dataloader()))\n",
    "train_batch_x.shape, train_batch_y.shape"
   ]
  },
  {
   "cell_type": "markdown",
   "metadata": {},
   "source": []
  },
  {
   "cell_type": "markdown",
   "metadata": {},
   "source": [
    "## **** Create and Load model HERE ****"
   ]
  },
  {
   "cell_type": "code",
   "execution_count": null,
   "metadata": {},
   "outputs": [
    {
     "name": "stdout",
     "output_type": "stream",
     "text": [
      "True\n"
     ]
    },
    {
     "data": {
      "text/plain": [
       "<All keys matched successfully>"
      ]
     },
     "execution_count": 6,
     "metadata": {},
     "output_type": "execute_result"
    }
   ],
   "source": [
    "import torchvision.models.segmentation as models\n",
    "from minerva.models.nets.image.deeplabv3 import DeepLabV3Backbone\n",
    "import os \n",
    "from torch import nn\n",
    "\n",
    "# wheights_path = \"/workspaces/HIAAC-KR-Dev-Container/shared_data/notebooks_e_pesos/backbones_byol/V1/V1_E300_B32_S256_both_N.pth\"\n",
    "wheights_path = \"../../../../../../../shared_data/notebooks_e_pesos/backbones_byol/V1/V1_E300_B32_S256_seam_ai.pth\"\n",
    "print(os.path.exists(wheights_path))\n",
    "\n",
    "backbone = models.deeplabv3_resnet50().backbone\n",
    "backbone.load_state_dict(torch.load(wheights_path))"
   ]
  },
  {
   "cell_type": "code",
   "execution_count": 8,
   "metadata": {},
   "outputs": [],
   "source": [
    "from minerva.models.nets.image.deeplabv3 import DeepLabV3, DeepLabV3PredictionHead\n",
    "from torch import Tensor\n",
    "from collections import OrderedDict\n",
    "\n",
    "\n",
    "class DeepLabV3_2(DeepLabV3):\n",
    "    \n",
    "    def forward(self, x: Tensor) -> Tensor:\n",
    "        x = x.float()\n",
    "        input_shape = x.shape[-2:]\n",
    "        h = self.backbone(x)\n",
    "        if isinstance(h, OrderedDict):\n",
    "            h = h['out']\n",
    "        z = self.fc(h)\n",
    "        # Upscaling\n",
    "        return nn.functional.interpolate(\n",
    "            z, size=input_shape, mode=\"bilinear\", align_corners=False\n",
    "        )"
   ]
  },
  {
   "cell_type": "code",
   "execution_count": 10,
   "metadata": {},
   "outputs": [],
   "source": [
    "from minerva.models.nets.image.deeplabv3 import DeepLabV3, DeepLabV3PredictionHead\n",
    "\n",
    "pred_head = DeepLabV3PredictionHead(num_classes=6)\n",
    "\n",
    "model = DeepLabV3_2(\n",
    "    backbone = backbone,\n",
    "    pred_head = pred_head,\n",
    "    loss_fn = torch.nn.CrossEntropyLoss(),\n",
    "    num_classes = 6,\n",
    "    learning_rate = 0.001,\n",
    ")"
   ]
  },
  {
   "cell_type": "code",
   "execution_count": 11,
   "metadata": {},
   "outputs": [],
   "source": [
    "# ckpt_file = \"/workspaces/HIAAC-KR-Dev-Container/Minerva-Dev/docs/notebooks/examples/seismic/facies_classification/f3/dinov2_vits14_pretrain.pth\"\n",
    "# ckpt = torch.load(ckpt_file, map_location=\"cpu\")\n",
    "\n",
    "\n",
    "# Only using the backbone with random prediction head. No need for this step"
   ]
  },
  {
   "cell_type": "markdown",
   "metadata": {},
   "source": [
    "## Pipeline"
   ]
  },
  {
   "cell_type": "code",
   "execution_count": 12,
   "metadata": {},
   "outputs": [
    {
     "name": "stderr",
     "output_type": "stream",
     "text": [
      "GPU available: True (cuda), used: True\n",
      "TPU available: False, using: 0 TPU cores\n",
      "HPU available: False, using: 0 HPUs\n",
      "Seed set to 42\n"
     ]
    },
    {
     "name": "stdout",
     "output_type": "stream",
     "text": [
      "Log directory set to: /workspaces/workspace/Minerva-Dev/docs/notebooks/examples/seismic/facies_classification/parihaka/logs/byol/seam_ai\n"
     ]
    }
   ],
   "source": [
    "pipeline = get_trainer_pipeline(\n",
    "    model=model,\n",
    "    model_name=model_name,\n",
    "    dataset_name=dataset_name,\n",
    "    log_dir=log_dir,\n",
    "    num_epochs=num_epochs,\n",
    "    accelerator=accelerator,\n",
    "    devices=devices,\n",
    "    is_debug=is_debug,\n",
    "    seed=seed,\n",
    ")"
   ]
  },
  {
   "cell_type": "code",
   "execution_count": 13,
   "metadata": {},
   "outputs": [
    {
     "name": "stderr",
     "output_type": "stream",
     "text": [
      "/usr/local/lib/python3.10/dist-packages/lightning/fabric/loggers/csv_logs.py:269: Experiment logs directory ./logs/byol/seam_ai exists and is not empty. Previous log files in this directory will be deleted when the new ones are saved!\n",
      "/usr/local/lib/python3.10/dist-packages/lightning/pytorch/callbacks/model_checkpoint.py:652: Checkpoint directory ./logs/byol/seam_ai/checkpoints exists and is not empty.\n",
      "LOCAL_RANK: 0 - CUDA_VISIBLE_DEVICES: [0,1]\n"
     ]
    },
    {
     "name": "stdout",
     "output_type": "stream",
     "text": [
      "Pipeline info saved at: /workspaces/workspace/Minerva-Dev/docs/notebooks/examples/seismic/facies_classification/parihaka/logs/byol/seam_ai/run_2024-12-16-18-06-024023ac1417fc4d23b385ba397a6f5b8c.yaml\n"
     ]
    },
    {
     "name": "stderr",
     "output_type": "stream",
     "text": [
      "\n",
      "  | Name     | Type                    | Params | Mode \n",
      "-------------------------------------------------------------\n",
      "0 | backbone | IntermediateLayerGetter | 23.5 M | train\n",
      "1 | fc       | DeepLabV3PredictionHead | 16.1 M | train\n",
      "2 | loss_fn  | CrossEntropyLoss        | 0      | train\n",
      "-------------------------------------------------------------\n",
      "39.6 M    Trainable params\n",
      "0         Non-trainable params\n",
      "39.6 M    Total params\n",
      "158.540   Total estimated model params size (MB)\n"
     ]
    },
    {
     "name": "stdout",
     "output_type": "stream",
     "text": [
      "Sanity Checking: |          | 0/? [00:00<?, ?it/s]"
     ]
    },
    {
     "name": "stderr",
     "output_type": "stream",
     "text": [
      "/usr/local/lib/python3.10/dist-packages/lightning/pytorch/trainer/connectors/data_connector.py:424: The 'val_dataloader' does not have many workers which may be a bottleneck. Consider increasing the value of the `num_workers` argument` to `num_workers=47` in the `DataLoader` to improve performance.\n"
     ]
    },
    {
     "name": "stdout",
     "output_type": "stream",
     "text": [
      "                                                                           \r"
     ]
    },
    {
     "name": "stderr",
     "output_type": "stream",
     "text": [
      "/usr/local/lib/python3.10/dist-packages/lightning/pytorch/trainer/connectors/data_connector.py:424: The 'train_dataloader' does not have many workers which may be a bottleneck. Consider increasing the value of the `num_workers` argument` to `num_workers=47` in the `DataLoader` to improve performance.\n",
      "/usr/local/lib/python3.10/dist-packages/lightning/pytorch/loops/fit_loop.py:298: The number of training batches (3) is smaller than the logging interval Trainer(log_every_n_steps=50). Set a lower value for log_every_n_steps if you want to see logs for the training epoch.\n"
     ]
    },
    {
     "name": "stdout",
     "output_type": "stream",
     "text": [
      "Epoch 0: 100%|██████████| 3/3 [00:04<00:00,  0.62it/s, v_num=m_ai, val_loss=33.70, train_loss=1.430]Pipeline info saved at: /workspaces/workspace/Minerva-Dev/docs/notebooks/examples/seismic/facies_classification/parihaka/logs/byol/seam_ai/run_2024-12-16-18-06-024023ac1417fc4d23b385ba397a6f5b8c.yaml\n"
     ]
    },
    {
     "name": "stderr",
     "output_type": "stream",
     "text": [
      "/usr/local/lib/python3.10/dist-packages/lightning/pytorch/trainer/call.py:54: Detected KeyboardInterrupt, attempting graceful shutdown...\n"
     ]
    }
   ],
   "source": [
    "pipeline.run(data_module, task=\"fit\")"
   ]
  },
  {
   "cell_type": "code",
   "execution_count": null,
   "metadata": {},
   "outputs": [
    {
     "name": "stdout",
     "output_type": "stream",
     "text": [
      "Checkpoint saved at ./logs/byol/seam_ai/checkpoints/last-v1.ckpt\n"
     ]
    }
   ],
   "source": [
    "print(f\"Checkpoint saved at {pipeline.trainer.checkpoint_callback.last_model_path}\")"
   ]
  },
  {
   "cell_type": "code",
   "execution_count": null,
   "metadata": {},
   "outputs": [],
   "source": []
  }
 ],
 "metadata": {
  "kernelspec": {
   "display_name": "Python 3",
   "language": "python",
   "name": "python3"
  },
  "language_info": {
   "codemirror_mode": {
    "name": "ipython",
    "version": 3
   },
   "file_extension": ".py",
   "mimetype": "text/x-python",
   "name": "python",
   "nbconvert_exporter": "python",
   "pygments_lexer": "ipython3",
   "version": "3.10.6"
  }
 },
 "nbformat": 4,
 "nbformat_minor": 2
}
