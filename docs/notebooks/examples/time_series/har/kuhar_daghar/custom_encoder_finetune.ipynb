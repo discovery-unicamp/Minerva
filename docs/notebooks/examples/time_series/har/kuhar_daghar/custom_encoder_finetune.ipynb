{
 "cells": [
  {
   "cell_type": "markdown",
   "metadata": {},
   "source": [
    "# Finetune a Custom Encoder on the DAGHAR Dataset\n",
    "\n",
    "\n",
    "In this notebook, we will fine-tune a custom encoder (previously trained elsewhere) on the DAGHAR KuHAR dataset. The encoder can be **any `torch.nn.Module` that was trained elsewhere** and whose checkpoint is available at a `.ckpt` file (saved using `torch.save(model.state_dict())`). This file may contain only the weights from encoder or may contains the weights of the entire model, including the encoder.\n",
    "\n",
    "To do this, we will first define yor model by:\n",
    "1. Loadig the encoder from the checkpoint, using the `FromPretrained` class. We going to call this encoder as `backbone`.\n",
    "2. Calculating the embedding size of the `backbone`. This is necessary to define the head of the model. This is done by passing a dummy input through the `backbone` and checking the output shape.\n",
    "3. Defining the head of the model. We use a standard MLP classifier as the head, whose input size is the embedding size, followed by a hidden layer of 128 units and an output layer with the number of classes in the dataset, that is, 6.\n",
    "4. Creating a `SimpleSupervisedModel` with the `backbone` and the head. The `SimpleSupervisedModel` is a PyTorch Lightning module that receives the `backbone` and the head as arguments and trains the model end-to-end. This model simply forwards the input through the `backbone`, flattens the output, and passes it through the head to get the logits, whose loss is calculated using the cross-entropy loss.\n",
    "\n",
    "Note that, for sake of reproducibility, you should only change parts related to loading the encoder and defining the head of the model. The rest of the code should remain the same (or at least very similar) to the one provided in this notebook.\n",
    "\n",
    "**Notes:**\n",
    "1. The `backbone` should have a `forward` method that takes a batch of time series as input and returns the output of the encoder (embeddings). Your encoder must accept samples with the shape `(batch_size, channels, steps)`, where `channels` is the number of channels in the time series and `steps` is the number of time steps. For DAGHAR dataset, `channels=6` and `steps=60`. **Thus, your encoder should accept samples with the shape `(batch_size, 6, 60)`.**\n",
    "\n"
   ]
  },
  {
   "cell_type": "code",
   "execution_count": 1,
   "metadata": {},
   "outputs": [],
   "source": [
    "# You should install minerva before running this script\n",
    "\n",
    "# !pip install git+https://github.com/discovery-unicamp/Minerva-Dev.git\n",
    "# !pip install kaleido"
   ]
  },
  {
   "cell_type": "code",
   "execution_count": 2,
   "metadata": {},
   "outputs": [
    {
     "name": "stderr",
     "output_type": "stream",
     "text": [
      "/usr/local/lib/python3.10/dist-packages/_distutils_hack/__init__.py:55: UserWarning: Reliance on distutils from stdlib is deprecated. Users must rely on setuptools to provide the distutils module. Avoid importing distutils or import setuptools first, and avoid setting SETUPTOOLS_USE_DISTUTILS=stdlib. Register concerns at https://github.com/pypa/setuptools/issues/new?template=distutils-deprecation.yml\n",
      "  warnings.warn(\n",
      "/usr/local/lib/python3.10/dist-packages/tqdm/auto.py:21: TqdmWarning: IProgress not found. Please update jupyter and ipywidgets. See https://ipywidgets.readthedocs.io/en/stable/user_install.html\n",
      "  from .autonotebook import tqdm as notebook_tqdm\n"
     ]
    }
   ],
   "source": [
    "from datetime import datetime\n",
    "\n",
    "import lightning as L\n",
    "import torch\n",
    "from lightning.pytorch.callbacks import ModelCheckpoint\n",
    "from lightning.pytorch.loggers import CSVLogger\n",
    "\n",
    "from minerva.models.ssl.cpc import CPC\n",
    "from minerva.models.nets.cpc_networks import HARCPCAutoregressive\n",
    "from minerva.data.data_modules.har_rodrigues_24 import HARDataModuleCPC\n",
    "from minerva.pipelines.lightning_pipeline import SimpleLightningPipeline\n",
    "from minerva.models.nets.base import SimpleSupervisedModel\n",
    "\n",
    "from minerva.models.nets.tnc import TSEncoder\n",
    "import torchmetrics\n",
    "\n",
    "from minerva.data.data_modules.har import MultiModalHARSeriesDataModule\n",
    "from minerva.models.loaders import FromPretrained\n",
    "from minerva.models.nets.base import SimpleSupervisedModel\n",
    "from minerva.models.nets.mlp import MLP\n",
    "from minerva.analysis.metrics.balanced_accuracy import BalancedAccuracy\n",
    "from minerva.analysis.model_analysis import TSNEAnalysis"
   ]
  },
  {
   "cell_type": "code",
   "execution_count": 3,
   "metadata": {},
   "outputs": [
    {
     "name": "stdout",
     "output_type": "stream",
     "text": [
      "Execution ID: run_20241105-001354\n",
      "Log dir: ./logs/WISDM/run_20241105-001354\n"
     ]
    }
   ],
   "source": [
    "# Name of the experiment\n",
    "execution_id = f'run_{datetime.now().strftime(\"%Y%m%d-%H%M%S\")}'\n",
    "# Directory to save logs\n",
    "log_dir = f\"./logs/WISDM/{execution_id}\" \n",
    "\n",
    "\n",
    "print(f\"Execution ID: {execution_id}\")\n",
    "print(f\"Log dir: {log_dir}\")"
   ]
  },
  {
   "cell_type": "markdown",
   "metadata": {},
   "source": [
    "## Fine-tuning a Pre-trained Custom Encoder\n",
    "\n",
    "In this notebook, we will fine-tune a custom encoder on the DAGHAR dataset. The encoder can be any `torch.nn.Module` that was trained elsewhere and whose checkpoint is available at a `.ckpt` file (saved using `torch.save(model.state_dict())`). This file may contain only the weights from encoder or may contains the weights of the entire model, including the encoder."
   ]
  },
  {
   "cell_type": "markdown",
   "metadata": {},
   "source": [
    "### 1. Defining the Data Module\n",
    "\n",
    "We will use the `MultiModalHARSeriesDataModule` data module to load the DAGHAR dataset for fine-tuning. This data module loads the data in the format required for fine-tuning, which includes sliding window time series data for each sample. Thus, each sample of the dataset will be a 2-element tuple containing the time series (`6x60`, where 6 is the number of features and 60 is the window size) and the corresponding label.\n",
    "\n",
    "The data module requires the following arguments:\n",
    "- `data_path`: Path to the directory containing the dataset (change it to use other dataset from DAGHAR).\n",
    "- `feature_prefix`: The prefix of the columns containing the features. For each prefix, we will create a different channel with all columns that start with the prefix.\n",
    "- `label`: The name of the column containing the labels.\n",
    "- `features_as_channels`: If True, for each prefix, we will create a different channel with all columns that start with the prefix. If False, we will concatenate all columns with the same prefix into a single channel (the sample will be a tensor of 1x360 instead of 6x60).\n",
    "- `cast_to`: The data type to cast the features (float32).\n",
    "- `batch_size`: The batch size for training."
   ]
  },
  {
   "cell_type": "code",
   "execution_count": 4,
   "metadata": {},
   "outputs": [
    {
     "data": {
      "text/plain": [
       "MultiModalHARSeriesDataModule(data_path=[PosixPath('/workspaces/container-workspace/standardized_view/WISDM')], batch_size=64)"
      ]
     },
     "execution_count": 4,
     "metadata": {},
     "output_type": "execute_result"
    }
   ],
   "source": [
    "data_module = MultiModalHARSeriesDataModule(\n",
    "    data_path=\"/workspaces/container-workspace/standardized_view/WISDM\",\n",
    "    feature_prefixes=[\"accel-x\", \"accel-y\", \"accel-z\", \"gyro-x\", \"gyro-y\", \"gyro-z\"],\n",
    "    label=\"standard activity code\",\n",
    "    features_as_channels=True,\n",
    "    cast_to=\"float32\",\n",
    "    batch_size=64,\n",
    "    num_workers=1,\n",
    ")\n",
    "\n",
    "data_module"
   ]
  },
  {
   "cell_type": "markdown",
   "metadata": {},
   "source": [
    "### 2. Defining the Fine-tuning Model\n",
    "\n",
    "We first going to create the `backbone` of our model, that is our encoder. To do this, we:\n",
    "1. Copy-and-paste the code of the encoder in the cell below. Should be a `torch.nn.Module` or equivalent. You should copy all code necessary to define the encoder, including imports, class definition, the `forward` method, and any other methods or classes that are necessary to define the encoder.\n",
    "2. Load the weights of the encoder from the checkpoint file using the `FromPretrained` class. This class receives the path to the checkpoint file and the model class and loads the weights from the checkpoint to the model. The `FromPretrained` class is a simple wrapper around the `torch.load` function that loads the weights from the checkpoint to the model.\n",
    "\n",
    "**NOTE**: \n",
    "1. For sake of tutorial, we will create a dummy encoder and save the random weights to a checkpoint file. You should replace the dummy encoder with your encoder and the checkpoint file with the file containing the weights of your encoder.\n",
    "2. Your encoder **must accept samples with the shape `(batch_size, 6, 60)`**. This is the shape of the samples in the DAGHAR dataset. If your encoder does not accept samples with this shape, you should modify it to accept samples with this shape."
   ]
  },
  {
   "cell_type": "markdown",
   "metadata": {},
   "source": [
    "#### Encoder Definition*"
   ]
  },
  {
   "cell_type": "code",
   "execution_count": 5,
   "metadata": {},
   "outputs": [],
   "source": [
    "import torch\n",
    "import torch.nn as nn\n",
    "import torch.nn.functional as F\n",
    "from torch import Tensor\n",
    "import math\n",
    "import numpy as np\n",
    "\n",
    "from torchvision.transforms import Compose, Resize, ToTensor\n",
    "#from einops import rearrange, reduce, repeat\n",
    "#from einops.layers.torch import Rearrange, Reduce\n",
    "from torchsummary import summary   \n",
    "        \n",
    "class MultiHeadAttention(nn.Module):\n",
    "    def __init__(self, emb_size, num_heads, dropout):\n",
    "        super().__init__()\n",
    "        self.emb_size = emb_size\n",
    "        self.num_heads = num_heads\n",
    "        self.keys = nn.Linear(emb_size, emb_size)\n",
    "        self.queries = nn.Linear(emb_size, emb_size)\n",
    "        self.values = nn.Linear(emb_size, emb_size)\n",
    "        self.att_drop = nn.Dropout(dropout)\n",
    "        self.projection = nn.Linear(emb_size, emb_size)\n",
    "\n",
    "    def forward(self, x: Tensor, mask: Tensor = None) -> Tensor:\n",
    "        '''\n",
    "        queries = rearrange(self.queries(x), \"b n (h d) -> b h n d\", h=self.num_heads)\n",
    "        keys = rearrange(self.keys(x), \"b n (h d) -> b h n d\", h=self.num_heads)\n",
    "        values = rearrange(self.values(x), \"b n (h d) -> b h n d\", h=self.num_heads)\n",
    "        '''\n",
    "        queries = self.rearrange_tensor(self.queries(x),  num_heads=self.num_heads)\n",
    "        keys = self.rearrange_tensor(self.keys(x), num_heads=self.num_heads)\n",
    "        values = self.rearrange_tensor(self.values(x),  num_heads=self.num_heads)\n",
    "\n",
    "        energy = torch.einsum('bhqd, bhkd -> bhqk', queries, keys)  # batch, num_heads, query_len, key_len\n",
    "        if mask is not None:\n",
    "            fill_value = torch.finfo(torch.float32).min\n",
    "            energy.mask_fill(~mask, fill_value)\n",
    "\n",
    "        scaling = self.emb_size ** (1 / 2)\n",
    "        att = F.softmax(energy / scaling, dim=-1)\n",
    "        att = self.att_drop(att)\n",
    "        out = torch.einsum('bhal, bhlv -> bhav ', att, values)\n",
    "        #print(f'out shape: {out.shape}')\n",
    "        #out = rearrange(out, \"b h n d -> b n (h d)\")\n",
    "        b, h, n, d = out.shape\n",
    "        out = out.permute(0, 2, 1, 3).reshape(b, n, h * d)\n",
    "        #print(f'out final shape: {out.shape}')\n",
    "        out = self.projection(out)\n",
    "        return out\n",
    "    \n",
    "    def rearrange_tensor(self, x: Tensor, num_heads: int) -> Tensor:\n",
    "        \"\"\"\n",
    "        Rearrange tensor from shape (b, n, h * d) to (b, h, n, d).\n",
    "\n",
    "        Args:\n",
    "            x (Tensor): Input tensor with shape (b, n, h * d).\n",
    "            num_heads (int): Number of heads (h).\n",
    "\n",
    "        Returns:\n",
    "            Tensor: Rearranged tensor with shape (b, h, n, d).\n",
    "        \"\"\"\n",
    "        b, n, hd = x.shape\n",
    "        d = hd // num_heads  # Calcula a dimensão `d` dividindo pela quantidade de cabeças\n",
    "\n",
    "        # Redimensiona para (b, n, h, d) e reorganiza para (b, h, n, d)\n",
    "        return x.view(b, n, num_heads, d).permute(0, 2, 1, 3)\n",
    "\n",
    "    \n",
    "class ResidualAdd(nn.Module):\n",
    "    def __init__(self, fn):\n",
    "        super().__init__()\n",
    "        self.fn = fn\n",
    "\n",
    "    def forward(self, x, **kwargs):\n",
    "        res = x\n",
    "        x = self.fn(x, **kwargs)\n",
    "        x += res\n",
    "        return x\n",
    "    \n",
    "    \n",
    "class FeedForwardBlock(nn.Sequential):\n",
    "    def __init__(self, emb_size, expansion, drop_p):\n",
    "        super().__init__(\n",
    "            nn.Linear(emb_size, expansion * emb_size),\n",
    "            nn.GELU(),\n",
    "            nn.Dropout(drop_p),\n",
    "            nn.Linear(expansion * emb_size, emb_size),\n",
    "        )\n",
    "\n",
    "        \n",
    "        \n",
    "class Dis_TransformerEncoderBlock(nn.Sequential):\n",
    "    def __init__(self,\n",
    "                 emb_size=100,\n",
    "                 num_heads=5,\n",
    "                 drop_p=0.,\n",
    "                 forward_expansion=4,\n",
    "                 forward_drop_p=0.):\n",
    "        super().__init__(\n",
    "            ResidualAdd(nn.Sequential(\n",
    "                nn.LayerNorm(emb_size),\n",
    "                MultiHeadAttention(emb_size, num_heads, drop_p),\n",
    "                nn.Dropout(drop_p)\n",
    "            )),\n",
    "            ResidualAdd(nn.Sequential(\n",
    "                nn.LayerNorm(emb_size),\n",
    "                FeedForwardBlock(\n",
    "                    emb_size, expansion=forward_expansion, drop_p=forward_drop_p),\n",
    "                nn.Dropout(drop_p)\n",
    "            )\n",
    "            ))\n",
    "\n",
    "\n",
    "class Dis_TransformerEncoder(nn.Sequential):\n",
    "    def __init__(self, depth=8, **kwargs):\n",
    "        super().__init__(*[Dis_TransformerEncoderBlock(**kwargs) for _ in range(depth)])\n",
    "        \n",
    "\n",
    "class ReduceLayer(nn.Module):\n",
    "    def __init__(self, reduction: str = 'mean'):\n",
    "        super(ReduceLayer, self).__init__()\n",
    "        self.reduction = reduction\n",
    "\n",
    "    def forward(self, x: Tensor) -> Tensor:\n",
    "        if self.reduction == 'mean':\n",
    "            return x.mean(dim=1)  # Reduz ao longo da dimensão `n`, resultando em (b, e)\n",
    "        elif self.reduction == 'sum':\n",
    "            return x.sum(dim=1)\n",
    "        else:\n",
    "            raise ValueError(f\"Unsupported reduction type: {self.reduction}\")\n",
    "    \n",
    "class PatchEmbedding_Linear(nn.Module):\n",
    "    #what are the proper parameters set here?\n",
    "    def __init__(self, in_channels = 21, patch_size = 16, emb_size = 100, seq_len = 1024):\n",
    "        # self.patch_size = patch_size\n",
    "        super().__init__()\n",
    "        #change the conv2d parameters here\n",
    "        '''\n",
    "        self.projection = nn.Sequential(\n",
    "            Rearrange('b c (h s1) (w s2) -> b (h w) (s1 s2 c)',s1 = 1, s2 = patch_size),\n",
    "            nn.Linear(patch_size*in_channels, emb_size))\n",
    "        '''\n",
    "        self.projection = nn.Sequential(\n",
    "            RearrangeLayer(patch_size=patch_size, s1=1),  # Substitui o Rearrange do einops\n",
    "            nn.Linear(patch_size * in_channels, emb_size))\n",
    "        \n",
    "        self.cls_token = nn.Parameter(torch.randn(1, 1, emb_size))\n",
    "        self.positions = nn.Parameter(torch.randn((seq_len // patch_size) + 1, emb_size))\n",
    "\n",
    "    def forward(self, x: Tensor) -> Tensor:\n",
    "        x = x.unsqueeze(dim=2)\n",
    "        b, _, _, _ = x.shape\n",
    "        x = self.projection(x)\n",
    "        \n",
    "        #cls_tokens = repeat(self.cls_token, '() n e -> b n e', b=b)\n",
    "        cls_tokens = self.cls_token.repeat(b, 1, 1) #Personal repeat from pytorch to transfer from einops\n",
    "\n",
    "        #prepend the cls token to the input\n",
    "        x = torch.cat([cls_tokens, x], dim=1)\n",
    "        # position\n",
    "        x += self.positions\n",
    "        return x     \n",
    "    \n",
    "    #For use in change of Rearrange einops layer\n",
    "class RearrangeLayer(nn.Module):\n",
    "    def __init__(self, patch_size: int, s1: int = 1):\n",
    "        super(RearrangeLayer, self).__init__()\n",
    "        self.patch_size = patch_size\n",
    "        self.s1 = s1\n",
    "\n",
    "    def forward(self, x: Tensor) -> Tensor:\n",
    "        b, c, h_s1, w_s2 = x.shape\n",
    "        h, s1 = h_s1, self.s1\n",
    "        w, s2 = w_s2 // self.patch_size, self.patch_size\n",
    "        \n",
    "        # Rearrange tensor\n",
    "        x = x.view(b, c, h, s1, w, s2)  # shape: (b, c, h, s1, w, s2)\n",
    "        x = x.permute(0, 2, 4, 3, 5, 1)  # shape: (b, h, w, s1, s2, c)\n",
    "        x = x.reshape(b, h * w, s1 * s2 * c)  # shape: (b, h * w, s1 * s2 * c)  \n",
    "\n",
    "        return x\n",
    "        \n",
    "class Encoder(nn.Sequential):\n",
    "    def __init__(self, \n",
    "                 in_channels=3,\n",
    "                 patch_size=15,\n",
    "                 emb_size=50, \n",
    "                 seq_len = 150,\n",
    "                 depth=3,  \n",
    "                 **kwargs):\n",
    "        super().__init__(\n",
    "            PatchEmbedding_Linear(in_channels, patch_size, emb_size, seq_len),\n",
    "            Dis_TransformerEncoder(depth, emb_size=emb_size, drop_p=0.5, forward_drop_p=0.5, **kwargs),\n",
    "        )\n"
   ]
  },
  {
   "cell_type": "code",
   "execution_count": 6,
   "metadata": {},
   "outputs": [],
   "source": [
    "# REPLACE THIS WITH YOUR ENCODER CHECKPOINT PATH\n",
    "ckpt_path = \"/workspaces/container-workspace/tts-gan/pre-trained-models/daghar_all_dataset/seq_len_60/daghar_all_50000_6axis_60_100/UCI_DAGHAR_Multiclass_50000_D_60_6axis_2024_11_03_22_59_20/Model/checkpoint\""
   ]
  },
  {
   "cell_type": "markdown",
   "metadata": {},
   "source": [
    "You should comment the cell below. It is only use to save the dummy encoder to a checkpoint file. When you replace it with your encoder, you should remove this cell."
   ]
  },
  {
   "cell_type": "code",
   "execution_count": 7,
   "metadata": {},
   "outputs": [
    {
     "data": {
      "text/plain": [
       "'\\ntorch.save(DummyEncoder().state_dict(), ckpt_path)\\nprint(f\"Encoder saved at \\'{ckpt_path}\\'\")\\nprint(\"You should remove this torch.save for the final version of your code\")\\n'"
      ]
     },
     "execution_count": 7,
     "metadata": {},
     "output_type": "execute_result"
    }
   ],
   "source": [
    "# COMMENT THIS CELL! It is only here to illustrate a chekpoint. YOU SHOULD USE YOUR OWN ENCODER CHECKPOINT\n",
    "'''\n",
    "torch.save(DummyEncoder().state_dict(), ckpt_path)\n",
    "print(f\"Encoder saved at '{ckpt_path}'\")\n",
    "print(\"You should remove this torch.save for the final version of your code\")\n",
    "'''"
   ]
  },
  {
   "cell_type": "markdown",
   "metadata": {},
   "source": [
    "#### Instantiating the Encoder and Loading it from Checkpoint*\n",
    "\n",
    "We will load the encoder from the checkpoint file using the `FromPretrained` class. This class receives the following parameters:\n",
    "- `model`: is a instance of the model class with random weights. We going to replace the weights of this model with the weights from the checkpoint.\n",
    "- `ckpt_path`: is the path to the checkpoint file containing the weights of the encoder.\n",
    "- `filter_keys`: optional parameter that can be used to filter the keys of the checkpoint file. If provided, only the keys that contain the filter keys will be loaded to the model. This is useful when the checkpoint file contains the weights of the entire model and we want to load only the weights of the encoder.\n",
    "- `strict`: if True, the keys of the checkpoint file must match the keys of the model exactly. If False, the keys of the checkpoint file must contain the keys of the model. We usually set this parameter to False to allow loading only the weights of the encoder.\n",
    "- `keys_to_rename`: a dictionary that maps the keys of the checkpoint file to the keys of the model. This is useful when the keys of the checkpoint file do not match the keys of the model. We can rename the keys of the checkpoint file to match the keys of the model."
   ]
  },
  {
   "cell_type": "code",
   "execution_count": 8,
   "metadata": {},
   "outputs": [
    {
     "name": "stdout",
     "output_type": "stream",
     "text": [
      "Model loaded from /workspaces/container-workspace/tts-gan/pre-trained-models/daghar_all_dataset/seq_len_60/daghar_all_50000_6axis_60_100/UCI_DAGHAR_Multiclass_50000_D_60_6axis_2024_11_03_22_59_20/Model/checkpoint: _IncompatibleKeys(missing_keys=[], unexpected_keys=['2.clshead.1.weight', '2.clshead.1.bias', '2.clshead.2.weight', '2.clshead.2.bias'])\n"
     ]
    },
    {
     "name": "stderr",
     "output_type": "stream",
     "text": [
      "/workspaces/container-workspace/Minerva-Dev/minerva/models/loaders.py:179: FutureWarning: You are using `torch.load` with `weights_only=False` (the current default value), which uses the default pickle module implicitly. It is possible to construct malicious pickle data which will execute arbitrary code during unpickling (See https://github.com/pytorch/pytorch/blob/main/SECURITY.md#untrusted-models for more details). In a future release, the default value for `weights_only` will be flipped to `True`. This limits the functions that could be executed during unpickling. Arbitrary objects will no longer be allowed to be loaded via this mode unless they are explicitly allowlisted by the user via `torch.serialization.add_safe_globals`. We recommend you start setting `weights_only=True` for any use case where you don't have full control of the loaded file. Please open an issue on GitHub for any issues related to this experimental feature.\n",
      "  ckpt = torch.load(ckpt_path, map_location=\"cpu\")\n"
     ]
    },
    {
     "data": {
      "text/plain": [
       "Encoder(\n",
       "  (0): PatchEmbedding_Linear(\n",
       "    (projection): Sequential(\n",
       "      (0): RearrangeLayer()\n",
       "      (1): Linear(in_features=90, out_features=50, bias=True)\n",
       "    )\n",
       "  )\n",
       "  (1): Dis_TransformerEncoder(\n",
       "    (0): Dis_TransformerEncoderBlock(\n",
       "      (0): ResidualAdd(\n",
       "        (fn): Sequential(\n",
       "          (0): LayerNorm((50,), eps=1e-05, elementwise_affine=True)\n",
       "          (1): MultiHeadAttention(\n",
       "            (keys): Linear(in_features=50, out_features=50, bias=True)\n",
       "            (queries): Linear(in_features=50, out_features=50, bias=True)\n",
       "            (values): Linear(in_features=50, out_features=50, bias=True)\n",
       "            (att_drop): Dropout(p=0.5, inplace=False)\n",
       "            (projection): Linear(in_features=50, out_features=50, bias=True)\n",
       "          )\n",
       "          (2): Dropout(p=0.5, inplace=False)\n",
       "        )\n",
       "      )\n",
       "      (1): ResidualAdd(\n",
       "        (fn): Sequential(\n",
       "          (0): LayerNorm((50,), eps=1e-05, elementwise_affine=True)\n",
       "          (1): FeedForwardBlock(\n",
       "            (0): Linear(in_features=50, out_features=200, bias=True)\n",
       "            (1): GELU(approximate='none')\n",
       "            (2): Dropout(p=0.5, inplace=False)\n",
       "            (3): Linear(in_features=200, out_features=50, bias=True)\n",
       "          )\n",
       "          (2): Dropout(p=0.5, inplace=False)\n",
       "        )\n",
       "      )\n",
       "    )\n",
       "    (1): Dis_TransformerEncoderBlock(\n",
       "      (0): ResidualAdd(\n",
       "        (fn): Sequential(\n",
       "          (0): LayerNorm((50,), eps=1e-05, elementwise_affine=True)\n",
       "          (1): MultiHeadAttention(\n",
       "            (keys): Linear(in_features=50, out_features=50, bias=True)\n",
       "            (queries): Linear(in_features=50, out_features=50, bias=True)\n",
       "            (values): Linear(in_features=50, out_features=50, bias=True)\n",
       "            (att_drop): Dropout(p=0.5, inplace=False)\n",
       "            (projection): Linear(in_features=50, out_features=50, bias=True)\n",
       "          )\n",
       "          (2): Dropout(p=0.5, inplace=False)\n",
       "        )\n",
       "      )\n",
       "      (1): ResidualAdd(\n",
       "        (fn): Sequential(\n",
       "          (0): LayerNorm((50,), eps=1e-05, elementwise_affine=True)\n",
       "          (1): FeedForwardBlock(\n",
       "            (0): Linear(in_features=50, out_features=200, bias=True)\n",
       "            (1): GELU(approximate='none')\n",
       "            (2): Dropout(p=0.5, inplace=False)\n",
       "            (3): Linear(in_features=200, out_features=50, bias=True)\n",
       "          )\n",
       "          (2): Dropout(p=0.5, inplace=False)\n",
       "        )\n",
       "      )\n",
       "    )\n",
       "    (2): Dis_TransformerEncoderBlock(\n",
       "      (0): ResidualAdd(\n",
       "        (fn): Sequential(\n",
       "          (0): LayerNorm((50,), eps=1e-05, elementwise_affine=True)\n",
       "          (1): MultiHeadAttention(\n",
       "            (keys): Linear(in_features=50, out_features=50, bias=True)\n",
       "            (queries): Linear(in_features=50, out_features=50, bias=True)\n",
       "            (values): Linear(in_features=50, out_features=50, bias=True)\n",
       "            (att_drop): Dropout(p=0.5, inplace=False)\n",
       "            (projection): Linear(in_features=50, out_features=50, bias=True)\n",
       "          )\n",
       "          (2): Dropout(p=0.5, inplace=False)\n",
       "        )\n",
       "      )\n",
       "      (1): ResidualAdd(\n",
       "        (fn): Sequential(\n",
       "          (0): LayerNorm((50,), eps=1e-05, elementwise_affine=True)\n",
       "          (1): FeedForwardBlock(\n",
       "            (0): Linear(in_features=50, out_features=200, bias=True)\n",
       "            (1): GELU(approximate='none')\n",
       "            (2): Dropout(p=0.5, inplace=False)\n",
       "            (3): Linear(in_features=200, out_features=50, bias=True)\n",
       "          )\n",
       "          (2): Dropout(p=0.5, inplace=False)\n",
       "        )\n",
       "      )\n",
       "    )\n",
       "  )\n",
       ")"
      ]
     },
     "execution_count": 8,
     "metadata": {},
     "output_type": "execute_result"
    }
   ],
   "source": [
    "# Instantiating encoder (random weights)\n",
    "backbone = Encoder(in_channels=6, seq_len=60)\n",
    "\n",
    "# Loading encoder from checkpoint\n",
    "backbone = FromPretrained(\n",
    "    model=backbone,\n",
    "    ckpt_path=ckpt_path,\n",
    "    strict=False,\n",
    "    ckpt_key='dis_state_dict'\n",
    ")\n",
    "backbone"
   ]
  },
  {
   "cell_type": "markdown",
   "metadata": {},
   "source": [
    "#### Defining the head\n",
    "\n",
    "We will define the head of the model. The head is a simple MLP classifier that receives the embeddings from the encoder and outputs the logits. The head consists of a single hidden layer with 128 units and an output layer with the number of classes in the dataset, that is, 6.\n",
    "In order to know the input size of the head, we need to calculate the embedding size of the encoder. This is done by passing a dummy input through the encoder and checking the output shape. Let's pick the first batch of the training data and pass it through the encoder to get the embedding size."
   ]
  },
  {
   "cell_type": "code",
   "execution_count": 9,
   "metadata": {},
   "outputs": [
    {
     "name": "stdout",
     "output_type": "stream",
     "text": [
      "O primeiro batch de treino tem shape X=(64, 6, 60) e y=(64,)\n"
     ]
    }
   ],
   "source": [
    "# Pega os dataloader de treino\n",
    "data_module.setup(\"fit\")\n",
    "train_data_loader = data_module.train_dataloader()\n",
    "\n",
    "# Obtem o primeiro batch de treino (64 amostras de 6x60)\n",
    "first_batch = next(iter(train_data_loader))\n",
    "\n",
    "X, y = first_batch\n",
    "print(f\"O primeiro batch de treino tem shape X={tuple(X.shape)} e y={tuple(y.shape)}\")"
   ]
  },
  {
   "cell_type": "markdown",
   "metadata": {},
   "source": [
    "We made a single forward pass through the encoder with the first batch of the training data and checked the output shape that is `(64, 16, 60)`. The embedding size is `16 x 30 = 480`, that is, the product of the number of channels and the number of steps in the output of the encoder. Thus, the input layer of our MLP head will have 480 units."
   ]
  },
  {
   "cell_type": "code",
   "execution_count": 10,
   "metadata": {},
   "outputs": [
    {
     "name": "stdout",
     "output_type": "stream",
     "text": [
      "O embedding tem shape (64, 5, 50)\n",
      "O embedding final, achatado, tem o shape de 250\n"
     ]
    }
   ],
   "source": [
    "embeddings = backbone(X)\n",
    "mlp_input_shape = embeddings.shape[1] * embeddings.shape[2]\n",
    "print(f\"O embedding tem shape {tuple(embeddings.shape)}\")\n",
    "print(f\"O embedding final, achatado, tem o shape de {mlp_input_shape}\")"
   ]
  },
  {
   "cell_type": "markdown",
   "metadata": {},
   "source": [
    "Let's define the head of the model in the cell below. The head will be a simple MLP classifier with:\n",
    "- A input layer with 480 units (`mlp_input_shape` variable).\n",
    "- A hidden layer with 128 units.\n",
    "- An output layer with 6 units, that is the number of classes in the dataset (`num_classes` variable)."
   ]
  },
  {
   "cell_type": "code",
   "execution_count": 11,
   "metadata": {},
   "outputs": [
    {
     "data": {
      "text/plain": [
       "MLP(\n",
       "  (0): Linear(in_features=250, out_features=128, bias=True)\n",
       "  (1): ReLU()\n",
       "  (2): Linear(in_features=128, out_features=6, bias=True)\n",
       ")"
      ]
     },
     "execution_count": 11,
     "metadata": {},
     "output_type": "execute_result"
    }
   ],
   "source": [
    "num_classes = 6\n",
    "head = MLP([mlp_input_shape, 128, num_classes])\n",
    "head"
   ]
  },
  {
   "cell_type": "markdown",
   "metadata": {},
   "source": [
    "#### Defining the SimpleSupervisedModel\n",
    "\n",
    "Finally, we use the `SimpleSupervisedModel` class to create the supervised model with the encoder as the backbone and the MLP classifier as the head. The `SimpleSupervisedModel` class requires the following arguments:\n",
    "- `backbone`: The backbone model (`FromPretrained` model).\n",
    "- `fc`: The head model (the MLP classifier).\n",
    "- `loss_fn`: The loss function to use for training (`CrossEntropyLoss`).\n",
    "- `flatten`: Whether to flatten the input before passing it through the head. Usually, the input is flattened if the backbone outputs a tensor with more than two dimensions.\n",
    "- `train_metrics`: A dictionary where the keys are the names of the metrics and the values are the functions that calculate the metrics. The metrics function should use `torchmetrics` API to calculate the metrics.\n",
    "- `val_metrics`: A dictionary where the keys are the names of the metrics and the values are the functions that calculate the metrics. The metrics function should use `torchmetrics` API to calculate the metrics."
   ]
  },
  {
   "cell_type": "code",
   "execution_count": 12,
   "metadata": {},
   "outputs": [
    {
     "data": {
      "text/plain": [
       "SimpleSupervisedModel(\n",
       "  (backbone): Encoder(\n",
       "    (0): PatchEmbedding_Linear(\n",
       "      (projection): Sequential(\n",
       "        (0): RearrangeLayer()\n",
       "        (1): Linear(in_features=90, out_features=50, bias=True)\n",
       "      )\n",
       "    )\n",
       "    (1): Dis_TransformerEncoder(\n",
       "      (0): Dis_TransformerEncoderBlock(\n",
       "        (0): ResidualAdd(\n",
       "          (fn): Sequential(\n",
       "            (0): LayerNorm((50,), eps=1e-05, elementwise_affine=True)\n",
       "            (1): MultiHeadAttention(\n",
       "              (keys): Linear(in_features=50, out_features=50, bias=True)\n",
       "              (queries): Linear(in_features=50, out_features=50, bias=True)\n",
       "              (values): Linear(in_features=50, out_features=50, bias=True)\n",
       "              (att_drop): Dropout(p=0.5, inplace=False)\n",
       "              (projection): Linear(in_features=50, out_features=50, bias=True)\n",
       "            )\n",
       "            (2): Dropout(p=0.5, inplace=False)\n",
       "          )\n",
       "        )\n",
       "        (1): ResidualAdd(\n",
       "          (fn): Sequential(\n",
       "            (0): LayerNorm((50,), eps=1e-05, elementwise_affine=True)\n",
       "            (1): FeedForwardBlock(\n",
       "              (0): Linear(in_features=50, out_features=200, bias=True)\n",
       "              (1): GELU(approximate='none')\n",
       "              (2): Dropout(p=0.5, inplace=False)\n",
       "              (3): Linear(in_features=200, out_features=50, bias=True)\n",
       "            )\n",
       "            (2): Dropout(p=0.5, inplace=False)\n",
       "          )\n",
       "        )\n",
       "      )\n",
       "      (1): Dis_TransformerEncoderBlock(\n",
       "        (0): ResidualAdd(\n",
       "          (fn): Sequential(\n",
       "            (0): LayerNorm((50,), eps=1e-05, elementwise_affine=True)\n",
       "            (1): MultiHeadAttention(\n",
       "              (keys): Linear(in_features=50, out_features=50, bias=True)\n",
       "              (queries): Linear(in_features=50, out_features=50, bias=True)\n",
       "              (values): Linear(in_features=50, out_features=50, bias=True)\n",
       "              (att_drop): Dropout(p=0.5, inplace=False)\n",
       "              (projection): Linear(in_features=50, out_features=50, bias=True)\n",
       "            )\n",
       "            (2): Dropout(p=0.5, inplace=False)\n",
       "          )\n",
       "        )\n",
       "        (1): ResidualAdd(\n",
       "          (fn): Sequential(\n",
       "            (0): LayerNorm((50,), eps=1e-05, elementwise_affine=True)\n",
       "            (1): FeedForwardBlock(\n",
       "              (0): Linear(in_features=50, out_features=200, bias=True)\n",
       "              (1): GELU(approximate='none')\n",
       "              (2): Dropout(p=0.5, inplace=False)\n",
       "              (3): Linear(in_features=200, out_features=50, bias=True)\n",
       "            )\n",
       "            (2): Dropout(p=0.5, inplace=False)\n",
       "          )\n",
       "        )\n",
       "      )\n",
       "      (2): Dis_TransformerEncoderBlock(\n",
       "        (0): ResidualAdd(\n",
       "          (fn): Sequential(\n",
       "            (0): LayerNorm((50,), eps=1e-05, elementwise_affine=True)\n",
       "            (1): MultiHeadAttention(\n",
       "              (keys): Linear(in_features=50, out_features=50, bias=True)\n",
       "              (queries): Linear(in_features=50, out_features=50, bias=True)\n",
       "              (values): Linear(in_features=50, out_features=50, bias=True)\n",
       "              (att_drop): Dropout(p=0.5, inplace=False)\n",
       "              (projection): Linear(in_features=50, out_features=50, bias=True)\n",
       "            )\n",
       "            (2): Dropout(p=0.5, inplace=False)\n",
       "          )\n",
       "        )\n",
       "        (1): ResidualAdd(\n",
       "          (fn): Sequential(\n",
       "            (0): LayerNorm((50,), eps=1e-05, elementwise_affine=True)\n",
       "            (1): FeedForwardBlock(\n",
       "              (0): Linear(in_features=50, out_features=200, bias=True)\n",
       "              (1): GELU(approximate='none')\n",
       "              (2): Dropout(p=0.5, inplace=False)\n",
       "              (3): Linear(in_features=200, out_features=50, bias=True)\n",
       "            )\n",
       "            (2): Dropout(p=0.5, inplace=False)\n",
       "          )\n",
       "        )\n",
       "      )\n",
       "    )\n",
       "  )\n",
       "  (fc): MLP(\n",
       "    (0): Linear(in_features=250, out_features=128, bias=True)\n",
       "    (1): ReLU()\n",
       "    (2): Linear(in_features=128, out_features=6, bias=True)\n",
       "  )\n",
       "  (loss_fn): CrossEntropyLoss()\n",
       ")"
      ]
     },
     "execution_count": 12,
     "metadata": {},
     "output_type": "execute_result"
    }
   ],
   "source": [
    "model = SimpleSupervisedModel(\n",
    "    backbone=backbone,\n",
    "    fc=head,\n",
    "    loss_fn=torch.nn.CrossEntropyLoss(),\n",
    "    flatten=True,\n",
    "    train_metrics={\n",
    "        \"acc\": torchmetrics.Accuracy(task=\"multiclass\", num_classes=6),\n",
    "    },\n",
    "    val_metrics={\n",
    "        \"acc\": torchmetrics.Accuracy(task=\"multiclass\", num_classes=6),\n",
    "    },\n",
    ")\n",
    "\n",
    "model"
   ]
  },
  {
   "cell_type": "markdown",
   "metadata": {},
   "source": [
    "### 3. Defining the Pytorch Lightning Trainer Configuration\n",
    "\n",
    "We will define the PyTorch Lightning Trainer configuration for fine-tuning the model.\n",
    "\n",
    "The trainer configuration includes the following parameters:\n",
    "- `max_epochs`: The maximum number of epochs to train the model.\n",
    "- `accelerator`: The accelerator to use for training: `cpu`, `gpu`, or `tpu`.\n",
    "- `devices`: The number of accelerators to use for training.\n",
    "- `logger`: The logger to use for logging the training progress.\n",
    "- `limit_*_batches`: The number of batches to use for training and validation. **This is useful for debugging and testing the model.**. You should remove these parameters when training the model for real."
   ]
  },
  {
   "cell_type": "code",
   "execution_count": 13,
   "metadata": {},
   "outputs": [
    {
     "name": "stderr",
     "output_type": "stream",
     "text": [
      "GPU available: True (cuda), used: True\n",
      "TPU available: False, using: 0 TPU cores\n",
      "HPU available: False, using: 0 HPUs\n"
     ]
    },
    {
     "data": {
      "text/plain": [
       "<lightning.pytorch.trainer.trainer.Trainer at 0x7f71a4fb42b0>"
      ]
     },
     "execution_count": 13,
     "metadata": {},
     "output_type": "execute_result"
    }
   ],
   "source": [
    "## Callbacks\n",
    "checkpoint_callback = ModelCheckpoint(\n",
    "    dirpath='checkpoints/',\n",
    "    monitor='val_loss',\n",
    "    mode='min',\n",
    "    save_last=True\n",
    ")\n",
    "\n",
    "## Logger\n",
    "logger = CSVLogger(save_dir=log_dir, name='tts-finetune', version=execution_id)\n",
    "\n",
    "## Trainer\n",
    "trainer = L.Trainer(\n",
    "    # Maximum number of epochs to train\n",
    "    max_epochs=100,\n",
    "    # Training on GPU\n",
    "    accelerator=\"gpu\",\n",
    "    # We will train using 1 gpu\n",
    "    devices=1,\n",
    "    # Logger for logging\n",
    "    logger=logger,\n",
    "    # List of callbacks\n",
    "    callbacks=[checkpoint_callback],\n",
    "    # Only for testing. Remove for production. We will only train using 1 batch of training and validation\n",
    "    #limit_train_batches=1,\n",
    "    #limit_val_batches=1,\n",
    ")\n",
    "\n",
    "trainer"
   ]
  },
  {
   "cell_type": "markdown",
   "metadata": {},
   "source": [
    "### 4. Creating the fine-tuning pipeline (and running the training)\n",
    "\n",
    "We will create a `SimpleLightningPipeline` to fine-tune the model. This pipeline receives the following arguments:\n",
    "- `model`: The model to train.\n",
    "- `trainer`: The PyTorch Lightning Trainer to use for training.\n",
    "- `log_dir`: The directory to save the logs, checkpoints, and other artifacts of the training process.\n",
    "- `save_run_status`: If True, save the status of the run to the log directory. This is useful for reprodutibility purposes.\n",
    "- `seed`: The seed to use for random number generators in PyTorch, NumPy, and other libraries.\n",
    "\n",
    "This pipeline is optional, as user can simply use `trainer.fit(model, datamodule)` directly to train the model. However, the pipeline provides a more organized way to train the model and save required information for reproducibility."
   ]
  },
  {
   "cell_type": "code",
   "execution_count": 14,
   "metadata": {},
   "outputs": [
    {
     "name": "stderr",
     "output_type": "stream",
     "text": [
      "Seed set to 42\n"
     ]
    },
    {
     "name": "stdout",
     "output_type": "stream",
     "text": [
      "Log directory set to: /workspaces/container-workspace/Minerva-Dev/docs/notebooks/examples/time_series/har/kuhar_daghar/logs/WISDM/run_20241105-001354\n"
     ]
    }
   ],
   "source": [
    "train_pipeline = SimpleLightningPipeline(\n",
    "    model=model,\n",
    "    trainer=trainer,\n",
    "    log_dir=log_dir,\n",
    "    save_run_status=True,\n",
    "    seed=42\n",
    ")"
   ]
  },
  {
   "cell_type": "markdown",
   "metadata": {},
   "source": [
    "Run the pipeline to fine-tune the model on the DAGHAR dataset!"
   ]
  },
  {
   "cell_type": "code",
   "execution_count": 15,
   "metadata": {},
   "outputs": [
    {
     "name": "stdout",
     "output_type": "stream",
     "text": [
      "Pipeline info saved at: /workspaces/container-workspace/Minerva-Dev/docs/notebooks/examples/time_series/har/kuhar_daghar/logs/WISDM/run_20241105-001354/run_2024-11-05-00-13-55c8e4cc692fa441b3b7e15a188007a8e0.yaml\n"
     ]
    },
    {
     "name": "stderr",
     "output_type": "stream",
     "text": [
      "/usr/local/lib/python3.10/dist-packages/lightning/pytorch/callbacks/model_checkpoint.py:654: Checkpoint directory /workspaces/container-workspace/Minerva-Dev/docs/notebooks/examples/time_series/har/kuhar_daghar/checkpoints exists and is not empty.\n",
      "LOCAL_RANK: 0 - CUDA_VISIBLE_DEVICES: [0]\n",
      "\n",
      "  | Name     | Type             | Params | Mode \n",
      "------------------------------------------------------\n",
      "0 | backbone | Encoder          | 96.8 K | train\n",
      "1 | fc       | MLP              | 32.9 K | train\n",
      "2 | loss_fn  | CrossEntropyLoss | 0      | train\n",
      "------------------------------------------------------\n",
      "129 K     Trainable params\n",
      "0         Non-trainable params\n",
      "129 K     Total params\n",
      "0.519     Total estimated model params size (MB)\n",
      "71        Modules in train mode\n",
      "0         Modules in eval mode\n"
     ]
    },
    {
     "name": "stdout",
     "output_type": "stream",
     "text": [
      "Sanity Checking: |          | 0/? [00:00<?, ?it/s]"
     ]
    },
    {
     "name": "stderr",
     "output_type": "stream",
     "text": [
      "/usr/local/lib/python3.10/dist-packages/lightning/pytorch/trainer/connectors/data_connector.py:424: The 'val_dataloader' does not have many workers which may be a bottleneck. Consider increasing the value of the `num_workers` argument` to `num_workers=5` in the `DataLoader` to improve performance.\n"
     ]
    },
    {
     "name": "stdout",
     "output_type": "stream",
     "text": [
      "                                                                           "
     ]
    },
    {
     "name": "stderr",
     "output_type": "stream",
     "text": [
      "/usr/local/lib/python3.10/dist-packages/lightning/pytorch/trainer/connectors/data_connector.py:424: The 'train_dataloader' does not have many workers which may be a bottleneck. Consider increasing the value of the `num_workers` argument` to `num_workers=5` in the `DataLoader` to improve performance.\n"
     ]
    },
    {
     "name": "stdout",
     "output_type": "stream",
     "text": [
      "Epoch 99: 100%|██████████| 136/136 [00:01<00:00, 77.19it/s, v_num=1354, val_loss=0.381, val_acc=0.850, train_loss=0.169, train_acc=0.928]"
     ]
    },
    {
     "name": "stderr",
     "output_type": "stream",
     "text": [
      "`Trainer.fit` stopped: `max_epochs=100` reached.\n"
     ]
    },
    {
     "name": "stdout",
     "output_type": "stream",
     "text": [
      "Epoch 99: 100%|██████████| 136/136 [00:01<00:00, 73.55it/s, v_num=1354, val_loss=0.381, val_acc=0.850, train_loss=0.169, train_acc=0.928]\n",
      "Pipeline info saved at: /workspaces/container-workspace/Minerva-Dev/docs/notebooks/examples/time_series/har/kuhar_daghar/logs/WISDM/run_20241105-001354/run_2024-11-05-00-13-55c8e4cc692fa441b3b7e15a188007a8e0.yaml\n"
     ]
    }
   ],
   "source": [
    "train_pipeline.run(data_module, task=\"fit\")"
   ]
  },
  {
   "cell_type": "markdown",
   "metadata": {},
   "source": [
    "## Evaluating the Fine-tuned Model\n",
    "\n",
    "After fine-tuning the encoder on the DAGHAR dataset, we will evaluate the model's performance on the test set of the same dataset. We create a simple evaluation pipeline, that will:\n",
    "1. Run forward on test set.\n",
    "2. Calculcate the metrics. This is specified in the `classification_metrics` dictionary, where the keys are the names of the metrics and the values are the functions that calculate the metrics. The metrics function should use `torchmetrics` API to calculate the metrics.\n",
    "3. Perform model analysis, such as plot t-sne embeddings.\n",
    "\n",
    "The test pipeline requires the following arguments:\n",
    "- `model`: The fine-tuned model to evaluate.\n",
    "- `trainer`: The PyTorch Lightning Trainer configuration.\n",
    "- `log_dir`: The directory to save the evaluation logs.\n",
    "- `seed`: The random seed for reproducibility.\n",
    "- `classification_metrics`: A dictionary where the keys are the names of the metrics and the values are the functions that calculate the metrics. The metrics function should use `torchmetrics` API to calculate the metrics.\n",
    "- `model_analysis`: A function that performs model analysis, such as plotting t-sne embeddings.\n",
    "\n",
    "Finally, we run the evaluation pipeline with the test data module to evaluate the model on the test set. We set the `task` parameter of the `run` method to `evaluate` to evaluate the model on the test set."
   ]
  },
  {
   "cell_type": "code",
   "execution_count": 16,
   "metadata": {},
   "outputs": [
    {
     "name": "stderr",
     "output_type": "stream",
     "text": [
      "Seed set to 42\n"
     ]
    },
    {
     "name": "stdout",
     "output_type": "stream",
     "text": [
      "Log directory set to: /workspaces/container-workspace/Minerva-Dev/docs/notebooks/examples/time_series/har/kuhar_daghar/logs/WISDM/run_20241105-001354\n"
     ]
    }
   ],
   "source": [
    "test_pipeline = SimpleLightningPipeline(\n",
    "    model=model,\n",
    "    trainer=trainer,\n",
    "    log_dir=log_dir,\n",
    "    save_run_status=True,\n",
    "    seed=42,\n",
    "    classification_metrics={\n",
    "        \"accuracy\": torchmetrics.Accuracy(num_classes=6, task=\"multiclass\"),\n",
    "        \"f1\": torchmetrics.F1Score(num_classes=6, task=\"multiclass\"),\n",
    "        \"precision\": torchmetrics.Precision(num_classes=6, task=\"multiclass\"),\n",
    "        \"recall\": torchmetrics.Recall(num_classes=6, task=\"multiclass\"),\n",
    "        \"balanced_accuracy\": BalancedAccuracy(num_classes=6, task=\"multiclass\"),\n",
    "    },\n",
    "    apply_metrics_per_sample=False,\n",
    "      model_analysis={\n",
    "         \"tsne\": TSNEAnalysis(\n",
    "             height=800,\n",
    "             width=800,\n",
    "             legend_title=\"Activity\",\n",
    "             title=\"t-SNE of CPC Finetuned on KuHar\",\n",
    "             output_filename=\"tsne_cpc_finetuned_kuhar.pdf\",\n",
    "             label_names={\n",
    "                 0: \"sit\",\n",
    "                 1: \"stand\",\n",
    "                 2: \"walk\",\n",
    "                 3: \"stair up\",\n",
    "                 4: \"stair down\",\n",
    "                 5: \"run\",\n",
    "                 6: \"stair up and down\",\n",
    "             },\n",
    "         )\n",
    "     },\n",
    ")"
   ]
  },
  {
   "cell_type": "code",
   "execution_count": 17,
   "metadata": {},
   "outputs": [
    {
     "name": "stdout",
     "output_type": "stream",
     "text": [
      "Pipeline info saved at: /workspaces/container-workspace/Minerva-Dev/docs/notebooks/examples/time_series/har/kuhar_daghar/logs/WISDM/run_20241105-001354/run_2024-11-05-00-17-05c2ecbfb919bd4da5ba3227e13f929560.yaml\n"
     ]
    },
    {
     "name": "stderr",
     "output_type": "stream",
     "text": [
      "Restoring states from the checkpoint path at /workspaces/container-workspace/Minerva-Dev/docs/notebooks/examples/time_series/har/kuhar_daghar/checkpoints/epoch=46-step=6392.ckpt\n",
      "LOCAL_RANK: 0 - CUDA_VISIBLE_DEVICES: [0]\n",
      "Loaded model weights from the checkpoint at /workspaces/container-workspace/Minerva-Dev/docs/notebooks/examples/time_series/har/kuhar_daghar/checkpoints/epoch=46-step=6392.ckpt\n",
      "/usr/local/lib/python3.10/dist-packages/lightning/pytorch/trainer/connectors/data_connector.py:424: The 'predict_dataloader' does not have many workers which may be a bottleneck. Consider increasing the value of the `num_workers` argument` to `num_workers=5` in the `DataLoader` to improve performance.\n"
     ]
    },
    {
     "name": "stdout",
     "output_type": "stream",
     "text": [
      "Predicting DataLoader 0: 100%|██████████| 41/41 [00:00<00:00, 299.08it/s]\n",
      "Running classification metrics...\n",
      "Running model analysis...\n"
     ]
    },
    {
     "name": "stderr",
     "output_type": "stream",
     "text": [
      "/workspaces/container-workspace/Minerva-Dev/minerva/analysis/metrics/balanced_accuracy.py:58: UserWarning: y_pred contains classes not in y_true\n",
      "  warnings.warn(\"y_pred contains classes not in y_true\")\n",
      "/workspaces/container-workspace/Minerva-Dev/minerva/analysis/model_analysis.py:63: UserWarning: Creating a tensor from a list of numpy.ndarrays is extremely slow. Please consider converting the list to a single numpy.ndarray with numpy.array() before converting to a tensor. (Triggered internally at ../torch/csrc/utils/tensor_new.cpp:278.)\n",
      "  X = torch.tensor(X, device=\"cpu\")\n"
     ]
    },
    {
     "name": "stdout",
     "output_type": "stream",
     "text": [
      "t-SNE plot saved to /workspaces/container-workspace/Minerva-Dev/docs/notebooks/examples/time_series/har/kuhar_daghar/logs/WISDM/run_20241105-001354/tsne_cpc_finetuned_kuhar.pdf\n",
      "{'classification': {'accuracy': [0.8629032373428345], 'f1': [0.8629032373428345], 'precision': [0.8629032373428345], 'recall': [0.8629032373428345], 'balanced_accuracy': [0.8630374670028687]}, 'analysis': {'tsne': '/workspaces/container-workspace/Minerva-Dev/docs/notebooks/examples/time_series/har/kuhar_daghar/logs/WISDM/run_20241105-001354/tsne_cpc_finetuned_kuhar.pdf'}}\n",
      "Metrics saved to /workspaces/container-workspace/Minerva-Dev/docs/notebooks/examples/time_series/har/kuhar_daghar/logs/WISDM/run_20241105-001354/metrics_2024-11-05-00-17-05c2ecbfb919bd4da5ba3227e13f929560.yaml\n",
      "Pipeline info saved at: /workspaces/container-workspace/Minerva-Dev/docs/notebooks/examples/time_series/har/kuhar_daghar/logs/WISDM/run_20241105-001354/run_2024-11-05-00-17-05c2ecbfb919bd4da5ba3227e13f929560.yaml\n"
     ]
    },
    {
     "data": {
      "text/plain": [
       "{'classification': {'accuracy': [0.8629032373428345],\n",
       "  'f1': [0.8629032373428345],\n",
       "  'precision': [0.8629032373428345],\n",
       "  'recall': [0.8629032373428345],\n",
       "  'balanced_accuracy': [0.8630374670028687]},\n",
       " 'analysis': {'tsne': '/workspaces/container-workspace/Minerva-Dev/docs/notebooks/examples/time_series/har/kuhar_daghar/logs/WISDM/run_20241105-001354/tsne_cpc_finetuned_kuhar.pdf'}}"
      ]
     },
     "execution_count": 17,
     "metadata": {},
     "output_type": "execute_result"
    }
   ],
   "source": [
    "d= test_pipeline.run(\n",
    "    data_module, task=\"evaluate\", ckpt_path=checkpoint_callback.best_model_path\n",
    ")\n",
    "d"
   ]
  },
  {
   "cell_type": "code",
   "execution_count": 4,
   "metadata": {},
   "outputs": [
    {
     "name": "stdout",
     "output_type": "stream",
     "text": [
      "UCI {'accuracy': [0.8579710125923157], 'balanced_accuracy': [0.8582032322883606], 'f1': [0.8579710125923157], 'precision': [0.8579710125923157], 'recall': [0.8579710125923157]}\n",
      "UCI {'accuracy': [0.834782600402832], 'balanced_accuracy': [0.8668681979179382], 'f1': [0.834782600402832], 'precision': [0.834782600402832], 'recall': [0.834782600402832]}\n",
      "UCI {'accuracy': [0.8550724387168884], 'balanced_accuracy': [0.8557836413383484], 'f1': [0.8550724387168884], 'precision': [0.8550724387168884], 'recall': [0.8550724387168884]}\n",
      "UCI {'accuracy': [0.8637681007385254], 'balanced_accuracy': [0.8662659525871277], 'f1': [0.8637681007385254], 'precision': [0.8637681007385254], 'recall': [0.8637681007385254]}\n",
      "UCI {'accuracy': [0.8710144758224487], 'balanced_accuracy': [0.8748836517333984], 'f1': [0.8710144758224487], 'precision': [0.8710144758224487], 'recall': [0.8710144758224487]}\n",
      "WISDM {'accuracy': [0.8579109311103821], 'balanced_accuracy': [0.8586177229881287], 'f1': [0.8579109311103821], 'precision': [0.8579109311103821], 'recall': [0.8579109311103821]}\n",
      "WISDM {'accuracy': [0.849078357219696], 'balanced_accuracy': [0.8539758324623108], 'f1': [0.849078357219696], 'precision': [0.849078357219696], 'recall': [0.849078357219696]}\n",
      "WISDM {'accuracy': [0.8629032373428345], 'balanced_accuracy': [0.8630374670028687], 'f1': [0.8629032373428345], 'precision': [0.8629032373428345], 'recall': [0.8629032373428345]}\n",
      "WISDM {'accuracy': [0.8529185652732849], 'balanced_accuracy': [0.8533471822738647], 'f1': [0.8529185652732849], 'precision': [0.8529185652732849], 'recall': [0.8529185652732849]}\n",
      "WISDM {'accuracy': [0.867511510848999], 'balanced_accuracy': [0.8678888082504272], 'f1': [0.867511510848999], 'precision': [0.867511510848999], 'recall': [0.867511510848999]}\n",
      "realworld_waist {'accuracy': [0.6905864477157593], 'balanced_accuracy': [0.7353320717811584], 'f1': [0.6905864477157593], 'precision': [0.6905864477157593], 'recall': [0.6905864477157593]}\n",
      "realworld_waist {'accuracy': [0.7091049551963806], 'balanced_accuracy': [0.7721161246299744], 'f1': [0.7091049551963806], 'precision': [0.7091049551963806], 'recall': [0.7091049551963806]}\n",
      "realworld_waist {'accuracy': [0.6979166865348816], 'balanced_accuracy': [0.7348610758781433], 'f1': [0.6979166865348816], 'precision': [0.6979166865348816], 'recall': [0.6979166865348816]}\n",
      "realworld_waist {'accuracy': [0.6570215821266174], 'balanced_accuracy': [0.7116362452507019], 'f1': [0.6570215821266174], 'precision': [0.6570215821266174], 'recall': [0.6570215821266174]}\n",
      "realworld_waist {'accuracy': [0.7399691343307495], 'balanced_accuracy': [0.7695116996765137], 'f1': [0.7399691343307495], 'precision': [0.7399691343307495], 'recall': [0.7399691343307495]}\n",
      "realworld_thigh {'accuracy': [0.6766735911369324], 'balanced_accuracy': [0.6610706448554993], 'f1': [0.6766735911369324], 'precision': [0.6766735911369324], 'recall': [0.6766735911369324]}\n",
      "realworld_thigh {'accuracy': [0.6535542011260986], 'balanced_accuracy': [0.6534743905067444], 'f1': [0.6535542011260986], 'precision': [0.6535542011260986], 'recall': [0.6535542011260986]}\n",
      "realworld_thigh {'accuracy': [0.6611456274986267], 'balanced_accuracy': [0.65800541639328], 'f1': [0.6611456274986267], 'precision': [0.6611456274986267], 'recall': [0.6611456274986267]}\n",
      "realworld_thigh {'accuracy': [0.6511387228965759], 'balanced_accuracy': [0.666816234588623], 'f1': [0.6511387228965759], 'precision': [0.6511387228965759], 'recall': [0.6511387228965759]}\n",
      "realworld_thigh {'accuracy': [0.669427216053009], 'balanced_accuracy': [0.6623452305793762], 'f1': [0.669427216053009], 'precision': [0.669427216053009], 'recall': [0.669427216053009]}\n",
      "motionsense {'accuracy': [0.8822975754737854], 'balanced_accuracy': [0.8891255259513855], 'f1': [0.8822975754737854], 'precision': [0.8822975754737854], 'recall': [0.8822975754737854]}\n",
      "motionsense {'accuracy': [0.8898305296897888], 'balanced_accuracy': [0.8915204405784607], 'f1': [0.8898305296897888], 'precision': [0.8898305296897888], 'recall': [0.8898305296897888]}\n",
      "motionsense {'accuracy': [0.8832391500473022], 'balanced_accuracy': [0.886753499507904], 'f1': [0.8832391500473022], 'precision': [0.8832391500473022], 'recall': [0.8832391500473022]}\n",
      "motionsense {'accuracy': [0.887005627155304], 'balanced_accuracy': [0.8886788487434387], 'f1': [0.887005627155304], 'precision': [0.887005627155304], 'recall': [0.887005627155304]}\n",
      "motionsense {'accuracy': [0.8832391500473022], 'balanced_accuracy': [0.886864185333252], 'f1': [0.8832391500473022], 'precision': [0.8832391500473022], 'recall': [0.8832391500473022]}\n",
      "kuhar {'accuracy': [0.5416666865348816], 'balanced_accuracy': [0.5459781289100647], 'f1': [0.5416666865348816], 'precision': [0.5416666865348816], 'recall': [0.5416666865348816]}\n",
      "kuhar {'accuracy': [0.5833333134651184], 'balanced_accuracy': [0.59039705991745], 'f1': [0.5833333134651184], 'precision': [0.5833333134651184], 'recall': [0.5833333134651184]}\n",
      "kuhar {'accuracy': [0.5694444179534912], 'balanced_accuracy': [0.5853849053382874], 'f1': [0.5694444179534912], 'precision': [0.5694444179534912], 'recall': [0.5694444179534912]}\n",
      "kuhar {'accuracy': [0.5694444179534912], 'balanced_accuracy': [0.6074718236923218], 'f1': [0.5694444179534912], 'precision': [0.5694444179534912], 'recall': [0.5694444179534912]}\n",
      "kuhar {'accuracy': [0.5902777910232544], 'balanced_accuracy': [0.531099796295166], 'f1': [0.5902777910232544], 'precision': [0.5902777910232544], 'recall': [0.5902777910232544]}\n"
     ]
    },
    {
     "data": {
      "text/html": [
       "<style type=\"text/css\">\n",
       "#T_00081 th {\n",
       "  background-color: #f2f2f2;\n",
       "  color: black;\n",
       "  border-color: gray;\n",
       "  font-weight: bold;\n",
       "}\n",
       "#T_00081 tr:hover {\n",
       "  background-color: #f9f9f9;\n",
       "}\n",
       "#T_00081_row0_col0, #T_00081_row0_col1, #T_00081_row0_col2, #T_00081_row0_col3, #T_00081_row0_col4, #T_00081_row1_col0, #T_00081_row1_col1, #T_00081_row1_col2, #T_00081_row1_col3, #T_00081_row1_col4, #T_00081_row2_col0, #T_00081_row2_col1, #T_00081_row2_col2, #T_00081_row2_col3, #T_00081_row2_col4, #T_00081_row3_col0, #T_00081_row3_col1, #T_00081_row3_col2, #T_00081_row3_col3, #T_00081_row3_col4, #T_00081_row4_col0, #T_00081_row4_col1, #T_00081_row4_col2, #T_00081_row4_col3, #T_00081_row4_col4, #T_00081_row5_col0, #T_00081_row5_col1, #T_00081_row5_col2, #T_00081_row5_col3, #T_00081_row5_col4 {\n",
       "  background-color: white;\n",
       "  color: black;\n",
       "  border-color: lightgray;\n",
       "}\n",
       "</style>\n",
       "<table id=\"T_00081\">\n",
       "  <caption>Metricas de Performance por Dataset</caption>\n",
       "  <thead>\n",
       "    <tr>\n",
       "      <th class=\"blank level0\" >&nbsp;</th>\n",
       "      <th id=\"T_00081_level0_col0\" class=\"col_heading level0 col0\" >accuracy</th>\n",
       "      <th id=\"T_00081_level0_col1\" class=\"col_heading level0 col1\" >balanced acurracy</th>\n",
       "      <th id=\"T_00081_level0_col2\" class=\"col_heading level0 col2\" >f1</th>\n",
       "      <th id=\"T_00081_level0_col3\" class=\"col_heading level0 col3\" >precision</th>\n",
       "      <th id=\"T_00081_level0_col4\" class=\"col_heading level0 col4\" >recall</th>\n",
       "    </tr>\n",
       "  </thead>\n",
       "  <tbody>\n",
       "    <tr>\n",
       "      <th id=\"T_00081_level0_row0\" class=\"row_heading level0 row0\" >UCI</th>\n",
       "      <td id=\"T_00081_row0_col0\" class=\"data row0 col0\" >0.8565 ± 0.0122</td>\n",
       "      <td id=\"T_00081_row0_col1\" class=\"data row0 col1\" >0.8644 ± 0.0068</td>\n",
       "      <td id=\"T_00081_row0_col2\" class=\"data row0 col2\" >0.8565 ± 0.0122</td>\n",
       "      <td id=\"T_00081_row0_col3\" class=\"data row0 col3\" >0.8565 ± 0.0122</td>\n",
       "      <td id=\"T_00081_row0_col4\" class=\"data row0 col4\" >0.8565 ± 0.0122</td>\n",
       "    </tr>\n",
       "    <tr>\n",
       "      <th id=\"T_00081_level0_row1\" class=\"row_heading level0 row1\" >WISDM</th>\n",
       "      <td id=\"T_00081_row1_col0\" class=\"data row1 col0\" >0.8581 ± 0.0066</td>\n",
       "      <td id=\"T_00081_row1_col1\" class=\"data row1 col1\" >0.8594 ± 0.0055</td>\n",
       "      <td id=\"T_00081_row1_col2\" class=\"data row1 col2\" >0.8581 ± 0.0066</td>\n",
       "      <td id=\"T_00081_row1_col3\" class=\"data row1 col3\" >0.8581 ± 0.0066</td>\n",
       "      <td id=\"T_00081_row1_col4\" class=\"data row1 col4\" >0.8581 ± 0.0066</td>\n",
       "    </tr>\n",
       "    <tr>\n",
       "      <th id=\"T_00081_level0_row2\" class=\"row_heading level0 row2\" >realworld_waist</th>\n",
       "      <td id=\"T_00081_row2_col0\" class=\"data row2 col0\" >0.6989 ± 0.0269</td>\n",
       "      <td id=\"T_00081_row2_col1\" class=\"data row2 col1\" >0.7447 ± 0.0230</td>\n",
       "      <td id=\"T_00081_row2_col2\" class=\"data row2 col2\" >0.6989 ± 0.0269</td>\n",
       "      <td id=\"T_00081_row2_col3\" class=\"data row2 col3\" >0.6989 ± 0.0269</td>\n",
       "      <td id=\"T_00081_row2_col4\" class=\"data row2 col4\" >0.6989 ± 0.0269</td>\n",
       "    </tr>\n",
       "    <tr>\n",
       "      <th id=\"T_00081_level0_row3\" class=\"row_heading level0 row3\" >realworld_thigh</th>\n",
       "      <td id=\"T_00081_row3_col0\" class=\"data row3 col0\" >0.6624 ± 0.0096</td>\n",
       "      <td id=\"T_00081_row3_col1\" class=\"data row3 col1\" >0.6603 ± 0.0045</td>\n",
       "      <td id=\"T_00081_row3_col2\" class=\"data row3 col2\" >0.6624 ± 0.0096</td>\n",
       "      <td id=\"T_00081_row3_col3\" class=\"data row3 col3\" >0.6624 ± 0.0096</td>\n",
       "      <td id=\"T_00081_row3_col4\" class=\"data row3 col4\" >0.6624 ± 0.0096</td>\n",
       "    </tr>\n",
       "    <tr>\n",
       "      <th id=\"T_00081_level0_row4\" class=\"row_heading level0 row4\" >motionsense</th>\n",
       "      <td id=\"T_00081_row4_col0\" class=\"data row4 col0\" >0.8851 ± 0.0029</td>\n",
       "      <td id=\"T_00081_row4_col1\" class=\"data row4 col1\" >0.8886 ± 0.0017</td>\n",
       "      <td id=\"T_00081_row4_col2\" class=\"data row4 col2\" >0.8851 ± 0.0029</td>\n",
       "      <td id=\"T_00081_row4_col3\" class=\"data row4 col3\" >0.8851 ± 0.0029</td>\n",
       "      <td id=\"T_00081_row4_col4\" class=\"data row4 col4\" >0.8851 ± 0.0029</td>\n",
       "    </tr>\n",
       "    <tr>\n",
       "      <th id=\"T_00081_level0_row5\" class=\"row_heading level0 row5\" >kuhar</th>\n",
       "      <td id=\"T_00081_row5_col0\" class=\"data row5 col0\" >0.5708 ± 0.0167</td>\n",
       "      <td id=\"T_00081_row5_col1\" class=\"data row5 col1\" >0.5721 ± 0.0287</td>\n",
       "      <td id=\"T_00081_row5_col2\" class=\"data row5 col2\" >0.5708 ± 0.0167</td>\n",
       "      <td id=\"T_00081_row5_col3\" class=\"data row5 col3\" >0.5708 ± 0.0167</td>\n",
       "      <td id=\"T_00081_row5_col4\" class=\"data row5 col4\" >0.5708 ± 0.0167</td>\n",
       "    </tr>\n",
       "  </tbody>\n",
       "</table>\n"
      ],
      "text/plain": [
       "<pandas.io.formats.style.Styler at 0x7f409b3281c0>"
      ]
     },
     "execution_count": 4,
     "metadata": {},
     "output_type": "execute_result"
    }
   ],
   "source": [
    "import yaml\n",
    "import os\n",
    "import glob\n",
    "import numpy as np\n",
    "import pandas as pd\n",
    "import dataframe_image as dfi\n",
    "\n",
    "# Define the root directory\n",
    "root = \"./logs/\"\n",
    "dictionary = {}\n",
    "\n",
    "#Loop over each dataset directory inside the root\n",
    "for dataset in os.listdir(root):\n",
    "    dataset_path = os.path.join(root, dataset)\n",
    "      \n",
    "        # Loop over each run directory within the dataset directory\n",
    "    accuracy = []\n",
    "    balancedaccuracy = []\n",
    "    f1 = []\n",
    "    precision = []\n",
    "    recall = []\n",
    "    \n",
    "    for run in os.listdir(dataset_path):\n",
    "        run_path = os.path.join(dataset_path, run)\n",
    "                \n",
    "        # Look for the metrics file with the specified pattern in the run directory\n",
    "        metrics_file = glob.glob(os.path.join(run_path, 'metrics_????-??-??-??-??-*.yaml'))\n",
    "\n",
    "        # Read the YAML file\n",
    "        with open(metrics_file[0], 'r') as file:\n",
    "            data = yaml.safe_load(file)\n",
    "                        \n",
    "        # Extract the 'classification' dictionary if it exists\n",
    "        classification_data = data.get('classification')\n",
    "        print(dataset, classification_data)\n",
    "        accuracy.append(classification_data['accuracy'])\n",
    "        balancedaccuracy.append(classification_data['balanced_accuracy'])\n",
    "        f1.append(classification_data['f1'])\n",
    "        precision.append(classification_data['precision'])\n",
    "        recall.append(classification_data['recall'])\n",
    "\n",
    "    dictionary[dataset] = {'accuracy': f'{np.array(accuracy).mean():.4f} ± {np.array(accuracy).std():.4f}',\n",
    "                           'balanced acurracy':  f'{np.array(balancedaccuracy).mean():.4f} ± {np.array(balancedaccuracy).std():.4f}',\n",
    "                           'f1':  f'{np.array(f1).mean():.4f} ± {np.array(f1).std():.4f}',\n",
    "                           'precision':  f'{np.array(precision).mean():.4f} ± {np.array(precision).std():.4f}',\n",
    "                           'recall':  f'{np.array(recall).mean():.4f} ± {np.array(recall).std():.4f}'}\n",
    "    \n",
    "# Criando o DataFrame\n",
    "df = pd.DataFrame(dictionary).T\n",
    "\n",
    "# Aplicando estilo com fundo branco e bordas sutis\n",
    "styled_df = (\n",
    "    df.style\n",
    "    .set_properties(**{'background-color': 'white', 'color': 'black', 'border-color': 'lightgray'})\n",
    "    .set_table_styles([\n",
    "        {'selector': 'th', 'props': [('background-color', '#f2f2f2'), ('color', 'black'), ('border-color', 'gray'), ('font-weight', 'bold')]},\n",
    "        {'selector': 'tr:hover', 'props': [('background-color', '#f9f9f9')]}\n",
    "    ])\n",
    "    .set_caption(\"Metricas de Performance por Dataset\")  # Adiciona um título ao DataFrame\n",
    ")\n",
    "\n",
    "styled_df\n"
   ]
  },
  {
   "cell_type": "code",
   "execution_count": 6,
   "metadata": {},
   "outputs": [
    {
     "data": {
      "image/png": "[encoded data removed]",
      "text/plain": [
       "<Figure size 800x600 with 1 Axes>"
      ]
     },
     "metadata": {},
     "output_type": "display_data"
    }
   ],
   "source": [
    "import seaborn as sns\n",
    "import matplotlib.pyplot as plt\n",
    "\n",
    "# Convertendo as métricas para float para visualização\n",
    "df_numeric = df.replace(r' ± .*', '', regex=True).astype(float)\n",
    "\n",
    "# Criando um gráfico de barras\n",
    "plt.figure(figsize=(8, 6))\n",
    "sns.barplot(data=df_numeric.reset_index().melt(id_vars='index'), \n",
    "            x='index', y='value', hue='variable')\n",
    "plt.title('Métricas de Classificação por Dataset')\n",
    "plt.xlabel('Dataset')\n",
    "plt.ylabel('Valor')\n",
    "plt.legend(title='Métricas')\n",
    "#plt.xticks(rotation=45)\n",
    "plt.tight_layout()\n",
    "plt.show()"
   ]
  }
 ],
 "metadata": {
  "kernelspec": {
   "display_name": "Python 3",
   "language": "python",
   "name": "python3"
  },
  "language_info": {
   "codemirror_mode": {
    "name": "ipython",
    "version": 3
   },
   "file_extension": ".py",
   "mimetype": "text/x-python",
   "name": "python",
   "nbconvert_exporter": "python",
   "pygments_lexer": "ipython3",
   "version": "3.10.6"
  }
 },
 "nbformat": 4,
 "nbformat_minor": 2
}
