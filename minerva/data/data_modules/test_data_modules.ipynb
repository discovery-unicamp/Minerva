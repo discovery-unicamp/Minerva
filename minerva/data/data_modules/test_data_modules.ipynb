{
 "cells": [
  {
   "cell_type": "code",
   "execution_count": 1,
   "metadata": {},
   "outputs": [],
   "source": [
    "from minerva.data.data_modules.har_reyes_16 import ReyesModule"
   ]
  },
  {
   "cell_type": "code",
   "execution_count": 2,
   "metadata": {},
   "outputs": [
    {
     "name": "stdout",
     "output_type": "stream",
     "text": [
      "There are 175 batches in the training set.\n",
      "tensor([3, 1, 2, 0, 0, 5, 4, 3, 4, 2, 0, 1, 3, 5, 4, 0, 2, 4, 5, 5, 4, 2, 1, 1,\n",
      "        2, 3, 5, 5, 4, 3, 3, 2, 0, 3, 4, 3, 0, 4, 5, 3, 3, 0],\n",
      "       dtype=torch.int32) shape: torch.Size([42])\n",
      "\n",
      "tensor([1, 2, 1, 1, 4, 3, 4, 0, 4, 2, 1, 4, 3, 5, 4, 5, 4, 4, 2, 2, 3, 2, 3, 5,\n",
      "        4, 5, 0, 3, 1, 5, 3, 2, 2, 2, 0, 4, 1, 0, 2, 4, 2, 4],\n",
      "       dtype=torch.int32) shape: torch.Size([42])\n",
      "\n",
      "There are 175 batches in the val set.\n",
      "tensor([4, 4, 4, 4, 4, 4, 4, 4, 4, 4, 4, 4, 4, 4, 4, 4, 4, 4, 4, 4, 4, 4, 4, 4,\n",
      "        4, 4, 4, 3, 3, 3, 3, 3, 3, 3, 3, 3, 3, 3, 3, 3, 3, 3],\n",
      "       dtype=torch.int32) shape: torch.Size([42])\n",
      "\n",
      "tensor([3, 3, 3, 3, 3, 3, 3, 3, 3, 5, 5, 5, 5, 5, 5, 5, 5, 5, 5, 5, 5, 5, 5, 5,\n",
      "        5, 5, 5, 5, 5, 5, 5, 5, 5, 5, 5, 5, 0, 0, 0, 0, 0, 0],\n",
      "       dtype=torch.int32) shape: torch.Size([42])\n",
      "\n",
      "There are 70 batches in the test set.\n",
      "tensor([4, 4, 4, 4, 4, 4, 4, 4, 4, 4, 4, 4, 4, 4, 4, 4, 4, 4, 4, 4, 4, 4, 4, 4,\n",
      "        4, 4, 4, 4, 4, 4, 4, 3, 3, 3, 3, 3, 3, 3, 3, 3, 3, 3],\n",
      "       dtype=torch.int32) shape: torch.Size([42])\n",
      "\n",
      "tensor([3, 3, 3, 3, 3, 3, 3, 3, 3, 3, 3, 3, 3, 5, 5, 5, 5, 5, 5, 5, 5, 5, 5, 5,\n",
      "        5, 5, 5, 5, 5, 5, 5, 5, 5, 5, 5, 5, 5, 0, 0, 0, 0, 0],\n",
      "       dtype=torch.int32) shape: torch.Size([42])\n",
      "\n"
     ]
    }
   ],
   "source": [
    "batch_size = 42\n",
    "percentage = 1.0\n",
    "data_path = \"/workspaces/HIAAC-KR-Dev-Container/shared_data/reyes_2016_datasets/uci-6-9x128-50Hz/artigo/\"\n",
    "full42_dm = ReyesModule(data_path, batch_size, percentage)\n",
    "\n",
    "# show batches of training data\n",
    "i = 0\n",
    "print(\"There are\", len(full42_dm.train_dataloader()), \"batches in the training set.\")\n",
    "for batch in full42_dm.train_dataloader():\n",
    "    i+=1\n",
    "    print(batch[1], f\"shape: {batch[1].shape}\\n\")\n",
    "    if i % 2 == 0:\n",
    "        break\n",
    "\n",
    "# show batches of val data\n",
    "print(\"There are\", len(full42_dm.val_dataloader()), \"batches in the val set.\")\n",
    "for batch in full42_dm.val_dataloader():\n",
    "    i+=1\n",
    "    print(batch[1], f\"shape: {batch[1].shape}\\n\")\n",
    "    if i % 2 == 0:\n",
    "        break\n",
    "\n",
    "# show batches of test data\n",
    "print(\"There are\", len(full42_dm.test_dataloader()), \"batches in the test set.\")\n",
    "for batch in full42_dm.test_dataloader():\n",
    "    i+=1\n",
    "    print(batch[1], f\"shape: {batch[1].shape}\\n\")\n",
    "    if i % 2 == 0:\n",
    "        break"
   ]
  },
  {
   "cell_type": "code",
   "execution_count": 3,
   "metadata": {},
   "outputs": [
    {
     "name": "stdout",
     "output_type": "stream",
     "text": [
      "There are 0 batches in the training set.\n",
      "There are 0 batches in the val set.\n",
      "There are 421 batches in the test set.\n",
      "tensor([4, 4, 4, 4, 4, 4, 4], dtype=torch.int32) shape: torch.Size([7])\n",
      "\n",
      "tensor([4, 4, 4, 4, 4, 4, 4], dtype=torch.int32) shape: torch.Size([7])\n",
      "\n",
      "tensor([4, 4, 4, 4, 4, 4, 4], dtype=torch.int32) shape: torch.Size([7])\n",
      "\n"
     ]
    }
   ],
   "source": [
    "batch_size = 7\n",
    "percentage = 0.001\n",
    "data_path = \"/workspaces/HIAAC-KR-Dev-Container/shared_data/reyes_2016_datasets/uci-6-9x128-50Hz/artigo/\"\n",
    "full42_dm = ReyesModule(data_path, batch_size, percentage)\n",
    "\n",
    "# show batches of training data\n",
    "i = 0\n",
    "print(\"There are\", len(full42_dm.train_dataloader()), \"batches in the training set.\")\n",
    "for batch in full42_dm.train_dataloader():\n",
    "    i+=1\n",
    "    print(batch[1], f\"shape: {batch[1].shape}\\n\")\n",
    "    if i % 3 == 0:\n",
    "        break\n",
    "\n",
    "# show batches of val data\n",
    "print(\"There are\", len(full42_dm.val_dataloader()), \"batches in the val set.\")\n",
    "for batch in full42_dm.val_dataloader():\n",
    "    i+=1\n",
    "    print(batch[1], f\"shape: {batch[1].shape}\\n\")\n",
    "    if i % 3 == 0:\n",
    "        break\n",
    "\n",
    "# show batches of test data\n",
    "print(\"There are\", len(full42_dm.test_dataloader()), \"batches in the test set.\")\n",
    "for batch in full42_dm.test_dataloader():\n",
    "    i+=1\n",
    "    print(batch[1], f\"shape: {batch[1].shape}\\n\")\n",
    "    if i % 3 == 0:\n",
    "        break"
   ]
  }
 ],
 "metadata": {
  "kernelspec": {
   "display_name": "Python 3",
   "language": "python",
   "name": "python3"
  },
  "language_info": {
   "codemirror_mode": {
    "name": "ipython",
    "version": 3
   },
   "file_extension": ".py",
   "mimetype": "text/x-python",
   "name": "python",
   "nbconvert_exporter": "python",
   "pygments_lexer": "ipython3",
   "version": "3.10.6"
  }
 },
 "nbformat": 4,
 "nbformat_minor": 2
}
