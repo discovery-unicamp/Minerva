{
 "cells": [
  {
   "cell_type": "code",
   "execution_count": null,
   "metadata": {},
   "outputs": [],
   "source": []
  },
  {
   "cell_type": "code",
   "execution_count": null,
   "metadata": {},
   "outputs": [],
   "source": []
  },
  {
   "cell_type": "code",
   "execution_count": 1,
   "metadata": {},
   "outputs": [],
   "source": [
    "from datetime import datetime\n",
    "\n",
    "import lightning as L\n",
    "import torch\n",
    "from lightning.pytorch.callbacks import ModelCheckpoint\n",
    "from lightning.pytorch.loggers import CSVLogger\n",
    "\n",
    "from minerva.models.ssl.byol import BYOL"
   ]
  },
  {
   "cell_type": "code",
   "execution_count": 2,
   "metadata": {},
   "outputs": [
    {
     "name": "stdout",
     "output_type": "stream",
     "text": [
      "Execution ID: 2024-10-21-18-48-57\n"
     ]
    }
   ],
   "source": [
    "execution_id = datetime.now().strftime(\"%Y-%m-%d-%H-%M-%S\")\n",
    "log_dir = \"/workspaces/HIAAC-KR-Dev-Container/logs\"\n",
    "\n",
    "print(f\"Execution ID: {execution_id}\")"
   ]
  },
  {
   "cell_type": "code",
   "execution_count": null,
   "metadata": {},
   "outputs": [],
   "source": [
    "data_path = \"/workspaces/HIAAC-KR-Dev-Container/shared_data/authentication/standartized_balanced/\"\n",
    "dataset_name = \"RecodGait_v1_CPC\"\n",
    "input_size = 3\n",
    "window = 60\n",
    "overlap = 30\n",
    "batch_size = 64\n",
    "\n",
    "data_module = HARDataModuleCPC(\n",
    "    root_dir=data_path,\n",
    "    data_file=dataset_name,\n",
    "    input_size=input_size,\n",
    "    window=window,\n",
    "    overlap=overlap,\n",
    "    batch_size=batch_size,\n",
    "    columns=[\"accel-x\", \"accel-y\", \"accel-z\"],\n",
    ")\n",
    "\n",
    "data_module"
   ]
  },
  {
   "cell_type": "code",
   "execution_count": null,
   "metadata": {},
   "outputs": [],
   "source": []
  },
  {
   "cell_type": "code",
   "execution_count": null,
   "metadata": {},
   "outputs": [],
   "source": []
  },
  {
   "cell_type": "code",
   "execution_count": null,
   "metadata": {},
   "outputs": [],
   "source": []
  },
  {
   "cell_type": "code",
   "execution_count": null,
   "metadata": {},
   "outputs": [],
   "source": []
  }
 ],
 "metadata": {
  "kernelspec": {
   "display_name": "Python 3",
   "language": "python",
   "name": "python3"
  },
  "language_info": {
   "codemirror_mode": {
    "name": "ipython",
    "version": 3
   },
   "file_extension": ".py",
   "mimetype": "text/x-python",
   "name": "python",
   "nbconvert_exporter": "python",
   "pygments_lexer": "ipython3",
   "version": "3.10.6"
  }
 },
 "nbformat": 4,
 "nbformat_minor": 2
}
